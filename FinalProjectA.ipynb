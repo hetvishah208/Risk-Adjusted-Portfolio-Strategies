{
 "cells": [
  {
   "cell_type": "markdown",
   "id": "454ea73c-753e-4551-bf7b-f3e88677e3f0",
   "metadata": {},
   "source": [
    "# Final Project - Group 8"
   ]
  },
  {
   "cell_type": "markdown",
   "id": "ed75115f-1966-42b7-a9d4-1b3bd19be810",
   "metadata": {},
   "source": [
    "\"We pledge on our honor that we have not given nor received any unauthorized assistance on this\n",
    "assignment to/from other groups. Nor have we received any assistance from prior year students.\"\n",
    "    \n",
    "    - Hetvi Shah, Hitaishi Joshi, Krupa Shah, Prashant Goswami"
   ]
  },
  {
   "cell_type": "markdown",
   "id": "62ce67e0-6dac-4190-b2bd-72dae3e11367",
   "metadata": {},
   "source": [
    "\n",
    "This block of code specifies the parameter choices for the Moving Average (MA) Crossover and Bollinger Bands (BB) strategies, as well as the final list of strategies to be used in the portfolio."
   ]
  },
  {
   "cell_type": "code",
   "execution_count": 4,
   "id": "82ea8122-e497-4796-953c-af4f354f0c34",
   "metadata": {
    "tags": []
   },
   "outputs": [],
   "source": [
    "# Choices - Question 5\n",
    "maFast_flat = 105\n",
    "maSlow_flat = 255\n",
    "\n",
    "maFast_short = 105\n",
    "maSlow_short = 255\n",
    "\n",
    "bbWindow = 26\n",
    "bbStdevBand = 3\n",
    "\n",
    "myStrategies = ['AAPL-MAFlat', 'AMZN-MAFlat', 'SPY-MAFlat', 'AUD-BB', 'FBNDX-BMK-MA', 'GE-MAShort', 'GOLD-MAShort', 'INTC-BB']"
   ]
  },
  {
   "cell_type": "markdown",
   "id": "ee63439f-fef9-4583-a213-7648cb54795b",
   "metadata": {},
   "source": [
    "This block of code is used to set up the environment by importing essential libraries for data analysis (pandas, numpy) and visualization (matplotlib). Pandas is used for data manipulation, numpy for numerical operations, and matplotlib for creating plots and handling tick formatting."
   ]
  },
  {
   "cell_type": "code",
   "execution_count": 6,
   "id": "ec0ea1f5-b9f7-4858-b8e8-8a3bdb5213ac",
   "metadata": {
    "tags": []
   },
   "outputs": [],
   "source": [
    "import pandas as pd\n",
    "import numpy as np\n",
    "import matplotlib.pyplot as plt\n",
    "import matplotlib.ticker as ticker"
   ]
  },
  {
   "cell_type": "markdown",
   "id": "7d3c5d95-d644-404b-b361-cb595b22f2bc",
   "metadata": {},
   "source": [
    "## Question 1"
   ]
  },
  {
   "cell_type": "markdown",
   "id": "35415210-fdb3-4536-80c0-9f316f625598",
   "metadata": {},
   "source": [
    "This question involves creating multiple functions to implement technical trading strategies, analyze financial data, and combine the results into a single DataFrame. The first function, movingAverageCrossover, defines a strategy that calculates two different signals based on Simple Moving Averages (SMA). The strategy computes the fast and slow SMAs for a given instrument's prices. Based on the relationship between these SMAs, two different strategies are created: one where the position goes \"flat\" (i.e., no position is held) when the trend declines, and one where shorting is allowed during declining trends. The function begins by ensuring that the input DataFrame contains only one column of price data. Then, it calculates the SMAs, generates the necessary buy/sell signals, and calculates the benchmark returns (log returns). The results are returned as a new DataFrame containing the benchmark returns and the returns for both the \"flat\" and \"short\" strategies.\n",
    "\n",
    "The second function, bollingerBands, implements the Bollinger Bands strategy, which generates signals based on the position of the price relative to a rolling mean and standard deviation. The function starts by validating that the input DataFrame contains only one column of price data. It then calculates the rolling mean and standard deviation over the specified lookback window, which is used to compute the upper and lower Bollinger Bands. When the price crosses above or below these bands, the strategy generates long or short signals accordingly. If the price is between the bands, the function holds the previous day's position. The strategy returns are computed by multiplying the generated position with the log returns of the price, and the results are returned in a DataFrame with the benchmark returns and strategy returns for the Bollinger Bands.\n",
    "\n",
    "The final function, runMovingAverageAndBB, combines the outputs of the two strategies. It first runs the movingAverageCrossover function, followed by the bollingerBands function on the same dataset. Both results are then merged using an inner join, ensuring that only the dates common to both strategies are retained. The function verifies that the benchmark columns from both strategies are identical, as expected, and then returns a combined DataFrame that includes all relevant columns from both strategies.\n",
    "\n",
    "Lastly, a function is defined to read price data from a CSV file. This function reads the data into a pandas DataFrame and provides a quick overview of the dataset by printing the first and last few rows, counting the null values in each column, and generating summary statistics for the data. This preliminary step ensures that the data is clean and ready for further analysis with the two technical trading strategies."
   ]
  },
  {
   "cell_type": "code",
   "execution_count": 9,
   "id": "ab0e5995-2ef7-4163-bd27-4ad37df5cb57",
   "metadata": {
    "tags": []
   },
   "outputs": [],
   "source": [
    "# Function to calculate MA crossover strategies\n",
    "def movingAverageCrossover(data, fastWindow, slowWindow):\n",
    "    df = data.copy()\n",
    "    # Check if the DataFrame has more than one column\n",
    "    if df.shape[1] != 1:\n",
    "        raise ValueError(\"Input DataFrame must have exactly one column\")\n",
    "    # Get the instrument name\n",
    "    instrumentName = df.columns[0]\n",
    "    # Calculate fast and slow SMAs\n",
    "    df['FastSMA'] = df[instrumentName].rolling(fastWindow).mean()\n",
    "    df['SlowSMA'] = df[instrumentName].rolling(slowWindow).mean()\n",
    "    # Drop null values\n",
    "    df.dropna(inplace=True)\n",
    "    # Calculate log returns\n",
    "    df['BMKReturns'] = np.log(df[instrumentName] / df[instrumentName].shift(1))\n",
    "    # SMA strategy: if rising trend, stay long, otherwise go flat\n",
    "    df['PositionFlat'] = np.where(df['FastSMA'] > df['SlowSMA'], 1, 0)\n",
    "    # SMA strategy: if rising trend, stay long, otherwise go short\n",
    "    df['PositionShort'] = np.where(df['FastSMA'] > df['SlowSMA'], 1, -1)\n",
    "    # Calculate the strategy returns, taking care to push down the Position column\n",
    "    df['MAFlatReturns'] = df['PositionFlat'].shift(1) * df['BMKReturns']\n",
    "    df['MAShortReturns'] = df['PositionShort'].shift(1) * df['BMKReturns']\n",
    "    # Create the result DataFrame\n",
    "    result = pd.DataFrame({\n",
    "        f'{instrumentName}-BMK-MA': df['BMKReturns'],\n",
    "        f'{instrumentName}-MAFlat': df['MAFlatReturns'],\n",
    "        f'{instrumentName}-MAShort': df['MAShortReturns']\n",
    "    })\n",
    "    return result"
   ]
  },
  {
   "cell_type": "code",
   "execution_count": 10,
   "id": "b2e2fa84-735a-407f-b1a8-44b182f533c6",
   "metadata": {
    "tags": []
   },
   "outputs": [],
   "source": [
    "# Function to calculate bollinger bands\n",
    "def bollingerBands(dataFrame, lookbackWindow, stdevBand):\n",
    "    if len(dataFrame.columns) > 1:\n",
    "      raise ValueError(\"The input DataFrame must have only one column of prices.\")\n",
    "\n",
    "    data_frame = dataFrame.copy()\n",
    "    instrument = data_frame.columns[0]\n",
    "    data_frame.loc[:,'Mean'] = data_frame[instrument].rolling(lookbackWindow).mean()\n",
    "    data_frame.loc[:,'Stdev'] = data_frame[instrument].rolling(lookbackWindow).std()\n",
    "    data_frame.dropna(inplace=True)\n",
    "    data_frame.loc[:,'Upper'] = data_frame['Mean'] + stdevBand * data_frame['Stdev']\n",
    "    data_frame.loc[:,'Lower'] = data_frame['Mean'] - stdevBand * data_frame['Stdev']\n",
    "\n",
    "    date0 = data_frame.index[0]\n",
    "    if data_frame.loc[date0,instrument] >= data_frame.loc[date0, 'Upper']:\n",
    "        data_frame.loc[date0, 'Position'] = -1\n",
    "    elif data_frame.loc[date0,instrument] <= data_frame.loc[date0,'Lower']:\n",
    "        data_frame.loc[date0, 'Position'] = 1\n",
    "    else:\n",
    "        data_frame.loc[date0, 'Position'] = 0\n",
    "\n",
    "    # then loop over the entire data set\n",
    "    for i in range(1, data_frame.shape[0]):\n",
    "        today=data_frame.index[i]\n",
    "        yesterday=data_frame.index[i-1]\n",
    "        if data_frame.loc[today,instrument] >= data_frame.loc[today,'Upper']: # if close is above upper\n",
    "            data_frame.loc[today,'Position'] = -1 # then go short\n",
    "        elif data_frame.loc[today,instrument] <= data_frame.loc[today,'Lower']: # if close is below lower\n",
    "            data_frame.loc[today,'Position'] = 1 # then go long\n",
    "        elif data_frame.loc[yesterday,'Position'] == -1 and data_frame.loc[today,instrument] <= data_frame.loc[today,'Mean']: # if prev day is short and we're now below the mean\n",
    "            data_frame.loc[today,'Position']=0 # then flatten\n",
    "        elif data_frame.loc[yesterday,'Position'] == 1 and data_frame.loc[today, instrument] >= data_frame.loc[today, 'Mean']: # conversely...\n",
    "            data_frame.loc[today,'Position']=0 # then also flatten\n",
    "        else: # otherwise just hold yesterday's position\n",
    "            data_frame.loc[today,'Position']=data_frame.loc[yesterday,'Position']\n",
    "\n",
    "    data_frame.loc[:,'BMKReturns'] = np.log(data_frame[instrument] / data_frame[instrument].shift(1))\n",
    "    data_frame.loc[:,'BBReturns'] = data_frame['Position'].shift(1) * data_frame['BMKReturns']\n",
    "    data_frame = data_frame[['BMKReturns', 'BBReturns']]\n",
    "\n",
    "    data_frame = data_frame.rename(columns={'BMKReturns': f'{instrument}-BMK-BB', 'BBReturns': f'{instrument}-BB'})\n",
    "    return data_frame"
   ]
  },
  {
   "cell_type": "code",
   "execution_count": 11,
   "id": "c496393f-acd1-4cbe-98ef-05ea58d7ff16",
   "metadata": {
    "tags": []
   },
   "outputs": [],
   "source": [
    "# Function which will run the 2 technical trading strategy functions\n",
    "def runMovingAverageAndBB(data_frame, fastWindow, slowWindow, bbWindow, stdevBand):\n",
    "    # Run moving average crossover strategy\n",
    "    ma_results = movingAverageCrossover(data_frame, fastWindow, slowWindow)\n",
    "    \n",
    "    # Run Bollinger Bands strategy\n",
    "    bb_results = bollingerBands(data_frame, bbWindow, stdevBand)\n",
    "    \n",
    "    # Merge the two DataFrames on the date index (inner join)\n",
    "    combined_results = ma_results.join(bb_results, how='inner')\n",
    "    \n",
    "    # Check if BMK-MA and BMK-BB columns are identical (as per the requirement)\n",
    "    #if not combined_results[f'{data_frame.columns[0]}-BMK-MA'].equals(combined_results[f'{data_frame.columns[0]}-BMK-BB']):\n",
    "        #raise ValueError(\"BMK-MA and BMK-BB columns are not identical. Check your logic.\")\n",
    "    \n",
    "    return combined_results"
   ]
  },
  {
   "cell_type": "code",
   "execution_count": 12,
   "id": "815e6280-6c75-4576-ac65-5f1de3acb4c6",
   "metadata": {
    "tags": []
   },
   "outputs": [],
   "source": [
    "# Function to read the CSV file and print its head, tail, null values & summary statistics.\n",
    "def read_price_data(filename, index_col=0, parse_dates=True):\n",
    "    df = pd.read_csv(filename, index_col=index_col, parse_dates=parse_dates)\n",
    "    print(df.head())\n",
    "    print(df.tail())\n",
    "    print(df.isnull().sum())\n",
    "    print(df.describe())\n",
    "    df\n",
    "    return df"
   ]
  },
  {
   "cell_type": "markdown",
   "id": "8c9618b5-8fd6-4b2e-ad7d-5e5e64534f2b",
   "metadata": {},
   "source": [
    "## Question 2"
   ]
  },
  {
   "cell_type": "markdown",
   "id": "3d48f0eb-a6eb-4d9f-91a4-fd55b455e491",
   "metadata": {},
   "source": [
    "This code loads the dataset PricesProjectA.csv into a pandas DataFrame using the previously defined read_price_data function. The function reads the CSV file, sets the date as the index (if applicable), parses the date column, and prints the first and last few rows, the count of null values, and the summary statistics of the dataset. This step provides a quick initial understanding of the price data for further analysis."
   ]
  },
  {
   "cell_type": "code",
   "execution_count": 15,
   "id": "174822ff-afb3-4c60-85cb-4e45024a40b4",
   "metadata": {
    "tags": []
   },
   "outputs": [
    {
     "name": "stdout",
     "output_type": "stream",
     "text": [
      "                AAPL      AMZN        ATT     AUD     EUR  FBNDX          GE  \\\n",
      "1999-12-31  0.917969  3.806250  36.820244  0.6567  1.0062   6.89  396.794861   \n",
      "2000-01-03  0.999442  4.468750  35.498489  0.6585  1.0243   6.85  384.615387   \n",
      "2000-01-04  0.915179  4.096875  33.421452  0.6550  1.0296   6.87  369.230774   \n",
      "2000-01-05  0.928571  3.487500  33.940708  0.6579  1.0321   6.84  368.589752   \n",
      "2000-01-06  0.848214  3.278125  33.043808  0.6533  1.0328   6.86  373.517639   \n",
      "\n",
      "              GOLD      INTC        LEHM  SILVER       SPY  \n",
      "1999-12-31  288.00  41.15625  798.154631   5.380  146.8750  \n",
      "2000-01-03  289.00  43.50000  793.868670   5.405  145.4375  \n",
      "2000-01-04  282.25  41.46875  796.761677   5.325  139.7500  \n",
      "2000-01-05  280.00  41.81250  793.118215   5.145  140.0000  \n",
      "2000-01-06  281.10  39.37500  795.091984   5.120  137.7500  \n",
      "                 AAPL       AMZN        ATT     AUD     EUR  FBNDX         GE  \\\n",
      "2018-12-24  36.707500  67.197998  20.664654  0.7049  1.1406   7.68  53.230770   \n",
      "2018-12-26  39.292500  73.544998  21.208460  0.7066  1.1353   7.65  56.846153   \n",
      "2018-12-27  39.037498  73.082001  21.261330  0.7033  1.1430   7.63  55.923077   \n",
      "2018-12-28  39.057499  73.901001  21.495468  0.7047  1.1444   7.66  57.769230   \n",
      "2018-12-31  39.435001  75.098503  21.555891  0.7049  1.1467   7.67  58.230770   \n",
      "\n",
      "               GOLD       INTC         LEHM   SILVER         SPY  \n",
      "2018-12-24  1269.22  43.590000   998.805410  14.7750  234.339996  \n",
      "2018-12-26  1267.14  46.189999   996.301026  15.0355  246.179993  \n",
      "2018-12-27  1275.71  46.360001   998.396182  15.2275  248.070007  \n",
      "2018-12-28  1280.71  46.750000   998.680796  15.3839  247.750000  \n",
      "2018-12-31  1282.49  46.930000  1000.995080  15.4950  249.919998  \n",
      "AAPL      0\n",
      "AMZN      0\n",
      "ATT       0\n",
      "AUD       0\n",
      "EUR       0\n",
      "FBNDX     0\n",
      "GE        0\n",
      "GOLD      0\n",
      "INTC      0\n",
      "LEHM      0\n",
      "SILVER    0\n",
      "SPY       0\n",
      "dtype: int64\n",
      "              AAPL         AMZN          ATT          AUD          EUR  \\\n",
      "count  4745.000000  4745.000000  4745.000000  4745.000000  4745.000000   \n",
      "mean     12.906481    14.276243    24.837516     0.784642     1.214517   \n",
      "std      13.980654    20.515985     5.171241     0.151062     0.169549   \n",
      "min       0.234286     0.298500    14.607251     0.479000     0.827200   \n",
      "25%       1.089286     1.973500    20.037764     0.707200     1.112800   \n",
      "50%       6.513214     4.441000    25.188822     0.766700     1.235500   \n",
      "75%      22.629999    16.110001    28.429003     0.903000     1.336800   \n",
      "max      58.017502   101.975502    44.184292     1.102000     1.599100   \n",
      "\n",
      "             FBNDX           GE         GOLD         INTC         LEHM  \\\n",
      "count  4745.000000  4745.000000  4745.000000  4745.000000  4745.000000   \n",
      "mean      7.476875   217.450605   910.952462    28.220152  1002.848125   \n",
      "std       0.378739    78.177993   463.432487    10.666220    76.259687   \n",
      "min       6.170000    51.230770   255.550000    12.080000   790.241628   \n",
      "25%       7.260000   155.384613   418.350000    21.080000   957.942747   \n",
      "50%       7.520000   215.692307   954.950000    25.230000  1003.602410   \n",
      "75%       7.770000   264.461548  1277.980000    32.799999  1065.474821   \n",
      "max       8.060000   461.538452  1897.460000    74.875000  1128.970002   \n",
      "\n",
      "            SILVER          SPY  \n",
      "count  4745.000000  4745.000000  \n",
      "mean     14.879354   150.594514  \n",
      "std       8.763344    50.893894  \n",
      "min       4.060000    68.110001  \n",
      "25%       6.805000   114.570000  \n",
      "50%      14.666000   133.779999  \n",
      "75%      18.310500   186.309998  \n",
      "max      48.443800   293.579987  \n"
     ]
    }
   ],
   "source": [
    "# Load the dataset PricesProjectA.csv\n",
    "prices_df = read_price_data('PricesProjectA.csv')"
   ]
  },
  {
   "cell_type": "markdown",
   "id": "3e6cc707-5cb4-479a-94a2-303c3e36f140",
   "metadata": {},
   "source": [
    "## Question 3"
   ]
  },
  {
   "cell_type": "markdown",
   "id": "00c8cf92-8ac5-402b-a42d-f5914a19ad6c",
   "metadata": {},
   "source": [
    "This section begins by defining a function, calculate_sharpe_ratio, which calculates the Sharpe ratio, a key performance metric used to measure the risk-adjusted return of an asset. The Sharpe ratio is calculated by dividing the mean returns by the standard deviation of the returns, and then multiplying the result by the square root of 260 to annualize it (assuming 260 trading days in a year). This function will later be used to evaluate the performance of various technical trading strategies.\n",
    "\n",
    "Next, the selected instruments for the portfolio are defined, and their price data is extracted from the loaded dataset. The analysis proceeds by initializing dictionaries to store the optimal parameters for each instrument under both the Moving Average (MA) crossover strategies (flat and short) and the Bollinger Bands (BB) strategy. An empty DataFrame is also prepared to store the portfolio's combined returns from the different strategies, which will be used in the later stages of the analysis. The goal of this section is to determine the optimal parameters for each strategy, maximizing the Sharpe ratio for each instrument.\n",
    "\n",
    "The sensitivity analysis for the Moving Average (MA) crossover strategies involves iterating through different combinations of fast and slow window sizes for each instrument. The movingAverageCrossover function is used to calculate the strategy returns, and the Sharpe ratio for each combination is computed. This process identifies the window settings that yield the highest Sharpe ratio for both the \"flat\" (non-short) and \"short\" strategies. Once the optimal parameters for each strategy are found, they are stored in dictionaries, and the best Sharpe ratios for each strategy are recorded. This analysis helps in identifying the MA window settings that maximize the risk-adjusted returns for each selected instrument.\n",
    "\n",
    "Similarly, a sensitivity analysis is performed for the Bollinger Bands strategy. The function iterates through a range of lookback windows and standard deviation bands to find the optimal parameters for each instrument. The bollingerBands function computes the strategy's returns, and the Sharpe ratio is used to evaluate its performance. The best parameter combinations for each instrument are stored, along with the corresponding Sharpe ratios, which are later added to the combined portfolio. The overall returns from the Bollinger Bands strategy are also added to the portfolio returns DataFrame.\n",
    "\n",
    "Benchmark returns (BMK) for each instrument are then calculated using the log returns of the prices, providing a baseline performance measure. The Sharpe ratios for these benchmark returns are also computed and compared to the technical strategy results. This allows for a comparison between the passive benchmark returns and the more active technical trading strategies. The final output displays the optimal parameters for both the Moving Average and Bollinger Bands strategies, as well as the Sharpe ratios for the individual strategies and the benchmark returns. This comprehensive analysis offers insights into how different strategies perform for the selected instruments, which will guide the construction of a portfolio with a high Sharpe ratio."
   ]
  },
  {
   "cell_type": "code",
   "execution_count": 18,
   "id": "e5859be9-69fe-4263-9fd3-fd621baf1434",
   "metadata": {
    "tags": []
   },
   "outputs": [],
   "source": [
    "# Function to calculate Sharpe ratio\n",
    "def calculate_sharpe_ratio(returns):\n",
    "    return np.mean(returns) / np.std(returns) * np.sqrt(260)"
   ]
  },
  {
   "cell_type": "code",
   "execution_count": 19,
   "id": "e3647200-fefa-4daf-9e35-10b0e31cfb95",
   "metadata": {
    "tags": []
   },
   "outputs": [],
   "source": [
    "# Define the selected instruments\n",
    "selected_instruments = ['AAPL', 'AMZN', 'SPY', 'GE', 'INTC', 'FBNDX', 'GOLD', 'AUD']  # Replace with your chosen instruments\n",
    "selected_prices_df = prices_df[selected_instruments]\n",
    "\n",
    "# Variables to store optimal parameters for each strategy\n",
    "optimal_params_ma_flat = {}\n",
    "optimal_params_ma_short = {}\n",
    "optimal_params_bb = {}\n",
    "\n",
    "# Arrays to store individual strategy Sharpe ratios\n",
    "individual_sharpe_ratios = []\n",
    "\n",
    "# Portfolio returns for combined strategy\n",
    "portfolio_returns = pd.DataFrame(index=selected_prices_df.index)\n",
    "\n",
    "# MAFlat and MAShort sensitivity analysis\n",
    "max_sharpe_flat = -np.inf\n",
    "max_sharpe_short = -np.inf\n",
    "optimal_fast_flat, optimal_slow_flat = 0, 0\n",
    "optimal_fast_short, optimal_slow_short = 0, 0\n",
    "\n",
    "# Arrays to store Sharpe ratios for MA strategies\n",
    "sharpe_ratios_flat = []\n",
    "sharpe_ratios_short = []"
   ]
  },
  {
   "cell_type": "code",
   "execution_count": 20,
   "id": "3ffa011a-7e7c-4a8d-989e-de455a1efc71",
   "metadata": {
    "tags": []
   },
   "outputs": [
    {
     "name": "stdout",
     "output_type": "stream",
     "text": [
      "\n",
      "Optimal Parameters for MAFlat: {'AAPL': (5, 240), 'AMZN': (105, 255), 'SPY': (30, 220), 'GE': (85, 345), 'INTC': (60, 200), 'FBNDX': (30, 90), 'GOLD': (55, 480), 'AUD': (100, 110)}\n",
      "\n",
      "Optimal Parameters for MAShort: {'AAPL': (5, 180), 'AMZN': (105, 265), 'SPY': (30, 220), 'GE': (85, 350), 'INTC': (60, 80), 'FBNDX': (70, 120), 'GOLD': (55, 480), 'AUD': (30, 35)}\n",
      "\n",
      "Sharpe Ratios for Individual Strategies: [('AAPL-MAFlat', 1.0259044782330964), ('AAPL-MAShort', 0.7815853955637899), ('AMZN-MAFlat', 0.7892432349076488), ('AMZN-MAShort', 0.5387533708955689), ('SPY-MAFlat', 0.6604634625957803), ('SPY-MAShort', 0.5754523451715678), ('GE-MAFlat', 0.1887390837829924), ('GE-MAShort', 0.5543096695866804), ('INTC-MAFlat', 0.20593411667615938), ('INTC-MAShort', 0.2909059191190979), ('FBNDX-MAFlat', 0.5424547269515368), ('FBNDX-MAShort', 0.6251081742234925), ('GOLD-MAFlat', 0.6711834918947541), ('GOLD-MAShort', 0.6878652737951122), ('AUD-MAFlat', 0.3611661846692332), ('AUD-MAShort', 0.4089384812490124)]\n"
     ]
    }
   ],
   "source": [
    "# MAFlat and MAShort sensitivity analysis using chat gpt\n",
    "for instrument in selected_instruments:\n",
    "    max_sharpe_flat = -np.inf\n",
    "    max_sharpe_short = -np.inf\n",
    "    optimal_fast_flat, optimal_slow_flat = 0, 0\n",
    "    optimal_fast_short, optimal_slow_short = 0, 0\n",
    "\n",
    "    for fastWindow in range(5, 110, 5):\n",
    "        for slowWindow in range(fastWindow + 5, 500, 5):\n",
    "            # Run the moving average crossover strategy\n",
    "            strategy_df = movingAverageCrossover(prices_df[[instrument]], fastWindow, slowWindow)\n",
    "\n",
    "            # Calculate Sharpe ratios\n",
    "            sharpe_ratio_flat = calculate_sharpe_ratio(strategy_df[f'{instrument}-MAFlat'].dropna())\n",
    "            sharpe_ratio_short = calculate_sharpe_ratio(strategy_df[f'{instrument}-MAShort'].dropna())\n",
    "\n",
    "            # Update optimal parameters for MAFlat strategy\n",
    "            if sharpe_ratio_flat > max_sharpe_flat:\n",
    "                max_sharpe_flat = sharpe_ratio_flat\n",
    "                optimal_fast_flat, optimal_slow_flat = fastWindow, slowWindow\n",
    "\n",
    "            # Update optimal parameters for MAShort strategy\n",
    "            if sharpe_ratio_short > max_sharpe_short:\n",
    "                max_sharpe_short = sharpe_ratio_short\n",
    "                optimal_fast_short, optimal_slow_short = fastWindow, slowWindow\n",
    "\n",
    "    # Store optimal parameters for each instrument\n",
    "    optimal_params_ma_flat[instrument] = (optimal_fast_flat, optimal_slow_flat)\n",
    "    optimal_params_ma_short[instrument] = (optimal_fast_short, optimal_slow_short)\n",
    "\n",
    "    # Store the best Sharpe ratios for individual strategies\n",
    "    individual_sharpe_ratios.append((f'{instrument}-MAFlat', max_sharpe_flat))\n",
    "    individual_sharpe_ratios.append((f'{instrument}-MAShort', max_sharpe_short))\n",
    "\n",
    "# Calculate Sharpe ratio of the combined portfolio\n",
    "portfolio_returns['Portfolio-Returns'] = portfolio_returns.mean(axis=1)  # Equal weighting for now\n",
    "portfolio_sharpe_ratio = calculate_sharpe_ratio(portfolio_returns['Portfolio-Returns'].dropna())\n",
    "\n",
    "# Final selected parameters for the strategies\n",
    "print(\"\\nOptimal Parameters for MAFlat:\", optimal_params_ma_flat)\n",
    "print(\"\\nOptimal Parameters for MAShort:\", optimal_params_ma_short)\n",
    "\n",
    "# Print Sharpe ratios for individual strategies\n",
    "print(\"\\nSharpe Ratios for Individual Strategies:\", individual_sharpe_ratios)"
   ]
  },
  {
   "cell_type": "code",
   "execution_count": 21,
   "id": "a418b573-a923-4355-8594-1898130090d4",
   "metadata": {
    "tags": []
   },
   "outputs": [],
   "source": [
    "# Bollinger Bands sensitivity analysis using chat gpt\n",
    "max_sharpe_bb = -np.inf\n",
    "optimal_bb_window, optimal_stdev_band = 0, 0\n",
    "\n",
    "# Sensitivity analysis for BB strategy\n",
    "for instrument in selected_instruments:\n",
    "    for lookbackWindow in range(20, 50):\n",
    "        for stdevBand in range(1, 4):\n",
    "\n",
    "            # Run the bollinger band strategy\n",
    "            bb_strategy_df = bollingerBands(selected_prices_df[[instrument]], lookbackWindow, stdevBand)\n",
    "            sharpe_ratio = calculate_sharpe_ratio(bb_strategy_df[f'{instrument}-BB'].dropna())\n",
    "\n",
    "            # Update optimal parameters for BB strategy\n",
    "            if sharpe_ratio > max_sharpe_bb:\n",
    "                max_sharpe_bb = sharpe_ratio\n",
    "                optimal_bb_window, optimal_stdev_band = lookbackWindow, stdevBand\n",
    "\n",
    "    # Store optimal parameters for each instrument\n",
    "    optimal_params_bb[instrument] = (optimal_bb_window, optimal_stdev_band)\n",
    "\n",
    "    # Store the best Sharpe ratios for individual BB strategy\n",
    "    individual_sharpe_ratios.append((f'{instrument}-BB', max_sharpe_bb))\n",
    "\n",
    "    # Add BB returns to portfolio returns\n",
    "    portfolio_returns[f'{instrument}-Returns'] = bb_strategy_df[f'{instrument}-BB'].fillna(0)"
   ]
  },
  {
   "cell_type": "code",
   "execution_count": 22,
   "id": "dccaea42-7d73-4327-89b8-7a72d93ce686",
   "metadata": {
    "tags": []
   },
   "outputs": [
    {
     "name": "stdout",
     "output_type": "stream",
     "text": [
      "\n",
      "Sharpe Ratios for BMK Returns:\n",
      "('AAPL-MAFlat', 1.0259044782330964)\n",
      "('AAPL-MAShort', 0.7815853955637899)\n",
      "('AMZN-MAFlat', 0.7892432349076488)\n",
      "('AMZN-MAShort', 0.5387533708955689)\n",
      "('SPY-MAFlat', 0.6604634625957803)\n",
      "('SPY-MAShort', 0.5754523451715678)\n",
      "('GE-MAFlat', 0.1887390837829924)\n",
      "('GE-MAShort', 0.5543096695866804)\n",
      "('INTC-MAFlat', 0.20593411667615938)\n",
      "('INTC-MAShort', 0.2909059191190979)\n",
      "('FBNDX-MAFlat', 0.5424547269515368)\n",
      "('FBNDX-MAShort', 0.6251081742234925)\n",
      "('GOLD-MAFlat', 0.6711834918947541)\n",
      "('GOLD-MAShort', 0.6878652737951122)\n",
      "('AUD-MAFlat', 0.3611661846692332)\n",
      "('AUD-MAShort', 0.4089384812490124)\n",
      "('AAPL-BB', -0.0854788090411378)\n",
      "('AMZN-BB', 0.44180398876078686)\n",
      "('SPY-BB', 0.44180398876078686)\n",
      "('GE-BB', 0.44180398876078686)\n",
      "('INTC-BB', 0.44180398876078686)\n",
      "('FBNDX-BB', 0.44180398876078686)\n",
      "('GOLD-BB', 0.44180398876078686)\n",
      "('AUD-BB', 0.44180398876078686)\n",
      "('AAPL-BMK', 0.47588452907265366)\n",
      "('AMZN-BMK', 0.30460974492557547)\n",
      "('SPY-BMK', 0.14849740388616023)\n",
      "('GE-BMK', -0.33465144024745214)\n",
      "('INTC-BMK', 0.018934938600791318)\n",
      "('FBNDX-BMK', 0.15432667425737356)\n",
      "('GOLD-BMK', 0.4595278714154719)\n",
      "('AUD-BMK', 0.029533261677049217)\n"
     ]
    }
   ],
   "source": [
    "# BMK Returns and Sharpe Ratio\n",
    "bmk_returns = {}\n",
    "sharpe_ratios = {}\n",
    "\n",
    "# BMK returns calculations for each instrument\n",
    "for instrument in selected_instruments:\n",
    "    # Calculate BMK returns for each instrument\n",
    "    bmk_returns[instrument] = np.log(selected_prices_df[instrument] / selected_prices_df[instrument].shift(1))\n",
    "    portfolio_returns[f'{instrument}-BMK-Returns'] = bmk_returns[instrument]\n",
    "    \n",
    "    # Calculate Sharpe ratio for BMK returns\n",
    "    sharpe_ratio = calculate_sharpe_ratio(bmk_returns[instrument].dropna())\n",
    "    sharpe_ratios[instrument] = sharpe_ratio\n",
    "    individual_sharpe_ratios.append((f'{instrument}-BMK', sharpe_ratio))\n",
    "\n",
    "# Print Sharpe ratios for individual BMK returns\n",
    "print(\"\\nSharpe Ratios for BMK Returns:\")\n",
    "for item in individual_sharpe_ratios:\n",
    "    print(item)"
   ]
  },
  {
   "cell_type": "code",
   "execution_count": 23,
   "id": "ad52fc06-6fc4-49ff-ac02-453def6a46fe",
   "metadata": {
    "tags": []
   },
   "outputs": [
    {
     "name": "stdout",
     "output_type": "stream",
     "text": [
      "\n",
      "Optimal Parameters for MAFlat: {'AAPL': (5, 240), 'AMZN': (105, 255), 'SPY': (30, 220), 'GE': (85, 345), 'INTC': (60, 200), 'FBNDX': (30, 90), 'GOLD': (55, 480), 'AUD': (100, 110)}\n",
      "\n",
      "Optimal Parameters for MAShort: {'AAPL': (5, 180), 'AMZN': (105, 265), 'SPY': (30, 220), 'GE': (85, 350), 'INTC': (60, 80), 'FBNDX': (70, 120), 'GOLD': (55, 480), 'AUD': (30, 35)}\n",
      "\n",
      "Optimal Parameters for Bollinger Bands: {'AAPL': (26, 3), 'AMZN': (26, 3), 'SPY': (26, 3), 'GE': (26, 3), 'INTC': (26, 3), 'FBNDX': (26, 3), 'GOLD': (26, 3), 'AUD': (26, 3)}\n",
      "\n",
      "Sharpe Ratios for Individual Strategies: [('AAPL-MAFlat', 1.0259044782330964), ('AAPL-MAShort', 0.7815853955637899), ('AMZN-MAFlat', 0.7892432349076488), ('AMZN-MAShort', 0.5387533708955689), ('SPY-MAFlat', 0.6604634625957803), ('SPY-MAShort', 0.5754523451715678), ('GE-MAFlat', 0.1887390837829924), ('GE-MAShort', 0.5543096695866804), ('INTC-MAFlat', 0.20593411667615938), ('INTC-MAShort', 0.2909059191190979), ('FBNDX-MAFlat', 0.5424547269515368), ('FBNDX-MAShort', 0.6251081742234925), ('GOLD-MAFlat', 0.6711834918947541), ('GOLD-MAShort', 0.6878652737951122), ('AUD-MAFlat', 0.3611661846692332), ('AUD-MAShort', 0.4089384812490124), ('AAPL-BB', -0.0854788090411378), ('AMZN-BB', 0.44180398876078686), ('SPY-BB', 0.44180398876078686), ('GE-BB', 0.44180398876078686), ('INTC-BB', 0.44180398876078686), ('FBNDX-BB', 0.44180398876078686), ('GOLD-BB', 0.44180398876078686), ('AUD-BB', 0.44180398876078686), ('AAPL-BMK', 0.47588452907265366), ('AMZN-BMK', 0.30460974492557547), ('SPY-BMK', 0.14849740388616023), ('GE-BMK', -0.33465144024745214), ('INTC-BMK', 0.018934938600791318), ('FBNDX-BMK', 0.15432667425737356), ('GOLD-BMK', 0.4595278714154719), ('AUD-BMK', 0.029533261677049217)]\n"
     ]
    }
   ],
   "source": [
    "# Final selected parameters for the strategies\n",
    "print(\"\\nOptimal Parameters for MAFlat:\", optimal_params_ma_flat)\n",
    "print(\"\\nOptimal Parameters for MAShort:\", optimal_params_ma_short)\n",
    "print(\"\\nOptimal Parameters for Bollinger Bands:\", optimal_params_bb)\n",
    "\n",
    "# Print Sharpe ratios for individual strategies\n",
    "print(\"\\nSharpe Ratios for Individual Strategies:\", individual_sharpe_ratios)"
   ]
  },
  {
   "cell_type": "markdown",
   "id": "6cca2d1c-54e6-4806-b431-3acf7ac230ca",
   "metadata": {},
   "source": [
    "## Question 4"
   ]
  },
  {
   "cell_type": "markdown",
   "id": "879daad6-e379-4cff-87a5-0ff267811dde",
   "metadata": {
    "jp-MarkdownHeadingCollapsed": true,
    "tags": []
   },
   "source": [
    "### The chosen parameters and strategies are based on the results of the sensitivity analysis conducted in the previous question. The optimal parameters for both the MA and BB strategies were determined through the analysis of different window sizes and performance metrics.\n",
    "\n",
    "### Here’s the breakdown of the selected parameters and strategies:\n",
    "\n",
    "**Moving Average Crossover Parameters Flat**:\n",
    "- Fast Moving Average Window (`maFast`): 105\n",
    "- Slow Moving Average Window (`maSlow`): 255\n",
    "\n",
    "**Moving Average Crossover Parameters Short**:\n",
    "- Fast Moving Average Window (`maFast`): 105\n",
    "- Slow Moving Average Window (`maSlow`): 255\n",
    "\n",
    "**Bollinger Bands Parameters**:\n",
    "- Bollinger Band Window (`bbWindow`): 26\n",
    "- Standard Deviation Band (`bbStdevBand`): 3\n",
    "\n",
    "\n",
    "**Chosen Strategies for the Instruments:**:\n",
    "- **AAPL**: MAFlat \n",
    "- **AMZN**: MAFlat \n",
    "- **SPY**: MAFlat \n",
    "- **GE**: MAShort \n",
    "- **INTC**: BB \n",
    "- **FBNDX**: BMK-MA \n",
    "- **GOLD**: MAShort\n",
    "- **AUD**: BB \n",
    "\n",
    "#### These parameters and strategies were selected to optimize the portfolio based on the sensitivity analysis results, aiming for a high Sharpe ratio and an overall balanced risk-return profile."
   ]
  },
  {
   "cell_type": "markdown",
   "id": "7dadf711-ac76-4bb0-bd4b-396c6c95626b",
   "metadata": {},
   "source": [
    "## Question 6"
   ]
  },
  {
   "cell_type": "markdown",
   "id": "4176233a-fdda-4a55-9f7a-102aa4680b28",
   "metadata": {},
   "source": [
    "In this part of the project, the goal is to run the selected strategies on all 12 instruments and combine the results into a master DataFrame.\n",
    "\n",
    "We start by defining a list of instruments and the corresponding strategies and parameters for each. For each instrument, the chosen strategy type and parameter values (such as fast and slow windows for Moving Average or Bollinger Bands) are listed. This allows for easy iteration over the different instruments and strategies.\n",
    "\n",
    "Next, we create an empty list to store the results for each instrument. We then loop through the strategy_params dictionary, running the appropriate strategy (either Moving Average Crossover or Bollinger Bands) using the pre-defined runMovingAverageAndBB function. This function applies the strategies based on the provided parameters (fast/slow windows for MA or window/stdev for BB) and returns the calculated strategy returns for each instrument.\n",
    "\n",
    "After running the strategies, the results for each instrument are appended to the list of DataFrames. Once all instruments have been processed, we concatenate the individual DataFrames horizontally, creating a master DataFrame with 60 columns (5 columns per instrument for the 12 instruments).\n",
    "\n",
    "Finally, we calculate the Sharpe ratio for the entire master DataFrame using the calculate_sharpe_ratio function. This step evaluates the overall performance of the combined strategies across all instruments and provides a risk-adjusted measure of return. The Sharpe ratio is then displayed to assess the effectiveness of the portfolio."
   ]
  },
  {
   "cell_type": "code",
   "execution_count": 28,
   "id": "6acedd4c-253b-469b-a1e6-16a2b3097e87",
   "metadata": {
    "tags": []
   },
   "outputs": [],
   "source": [
    "# List of instruments and corresponding strategies\n",
    "instruments = ['AAPL', 'AMZN', 'ATT', 'GE', 'INTC', 'SPY', 'FBNDX', 'LEHM', 'GOLD', 'SILVER', 'AUD', 'EUR']\n",
    "\n",
    "# Chosen strategies and parameters for each instrument\n",
    "strategy_params = {\n",
    "    'AAPL': ('MAFlat', maFast_flat, maSlow_flat, bbWindow, bbStdevBand),\n",
    "    'AMZN': ('MAFlat', maFast_flat, maSlow_flat, bbWindow, bbStdevBand),\n",
    "    'ATT': ('MAShort', maFast_short, maSlow_short, bbWindow, bbStdevBand),\n",
    "    'GE': ('MAShort', maFast_short, maSlow_short, bbWindow, bbStdevBand),\n",
    "    'INTC': ('BB', maFast_short, maSlow_short, bbWindow, bbStdevBand),\n",
    "    'SPY': ('MAFlat', maFast_flat, maSlow_flat, bbWindow, bbStdevBand),\n",
    "    'FBNDX': ('BMK-MA', maFast_flat, maSlow_flat, bbWindow, bbStdevBand),\n",
    "    'LEHM': ('BMK-MA', maFast_flat, maSlow_flat, bbWindow, bbStdevBand),\n",
    "    'GOLD': ('MAShort', maFast_short, maSlow_short, bbWindow, bbStdevBand),\n",
    "    'SILVER': ('BB', maFast_short, maSlow_short, bbWindow, bbStdevBand),\n",
    "    'AUD': ('BB', maFast_short, maSlow_short, bbWindow, bbStdevBand),\n",
    "    'EUR': ('BB', maFast_short, maSlow_short, bbWindow, bbStdevBand)\n",
    "}"
   ]
  },
  {
   "cell_type": "code",
   "execution_count": 29,
   "id": "d777c630-825d-425a-82f1-215f9abbc4bc",
   "metadata": {
    "tags": []
   },
   "outputs": [],
   "source": [
    "# Create an empty list to store individual DataFrames\n",
    "dataframes = []"
   ]
  },
  {
   "cell_type": "code",
   "execution_count": 30,
   "id": "472d73c0-aa0e-438f-a90f-54a6e649ace8",
   "metadata": {
    "tags": []
   },
   "outputs": [],
   "source": [
    "# Run the function on all 12 instruments and store the results\n",
    "for instrument, params in strategy_params.items():\n",
    "    strategy_type, fastWindow, slowWindow, bbWindow, stdevBand = params\n",
    "    # Use the previously defined runMovingAverageAndBB function\n",
    "    result_df = runMovingAverageAndBB(prices_df[[instrument]], fastWindow, slowWindow, bbWindow, stdevBand)\n",
    "    \n",
    "    # Append the result to the list of dataframes\n",
    "    dataframes.append(result_df)"
   ]
  },
  {
   "cell_type": "code",
   "execution_count": 31,
   "id": "dacbc0f1-cfd0-47ea-8ef8-403bb425ebe2",
   "metadata": {
    "tags": []
   },
   "outputs": [
    {
     "data": {
      "text/html": [
       "<div>\n",
       "<style scoped>\n",
       "    .dataframe tbody tr th:only-of-type {\n",
       "        vertical-align: middle;\n",
       "    }\n",
       "\n",
       "    .dataframe tbody tr th {\n",
       "        vertical-align: top;\n",
       "    }\n",
       "\n",
       "    .dataframe thead th {\n",
       "        text-align: right;\n",
       "    }\n",
       "</style>\n",
       "<table border=\"1\" class=\"dataframe\">\n",
       "  <thead>\n",
       "    <tr style=\"text-align: right;\">\n",
       "      <th></th>\n",
       "      <th>AAPL-BMK-MA</th>\n",
       "      <th>AAPL-MAFlat</th>\n",
       "      <th>AAPL-MAShort</th>\n",
       "      <th>AAPL-BMK-BB</th>\n",
       "      <th>AAPL-BB</th>\n",
       "      <th>AMZN-BMK-MA</th>\n",
       "      <th>AMZN-MAFlat</th>\n",
       "      <th>AMZN-MAShort</th>\n",
       "      <th>AMZN-BMK-BB</th>\n",
       "      <th>AMZN-BB</th>\n",
       "      <th>...</th>\n",
       "      <th>AUD-BMK-MA</th>\n",
       "      <th>AUD-MAFlat</th>\n",
       "      <th>AUD-MAShort</th>\n",
       "      <th>AUD-BMK-BB</th>\n",
       "      <th>AUD-BB</th>\n",
       "      <th>EUR-BMK-MA</th>\n",
       "      <th>EUR-MAFlat</th>\n",
       "      <th>EUR-MAShort</th>\n",
       "      <th>EUR-BMK-BB</th>\n",
       "      <th>EUR-BB</th>\n",
       "    </tr>\n",
       "  </thead>\n",
       "  <tbody>\n",
       "    <tr>\n",
       "      <th>2001-01-04</th>\n",
       "      <td>NaN</td>\n",
       "      <td>NaN</td>\n",
       "      <td>NaN</td>\n",
       "      <td>0.041128</td>\n",
       "      <td>0.0</td>\n",
       "      <td>NaN</td>\n",
       "      <td>NaN</td>\n",
       "      <td>NaN</td>\n",
       "      <td>-0.124926</td>\n",
       "      <td>-0.0</td>\n",
       "      <td>...</td>\n",
       "      <td>NaN</td>\n",
       "      <td>NaN</td>\n",
       "      <td>NaN</td>\n",
       "      <td>0.017277</td>\n",
       "      <td>0.0</td>\n",
       "      <td>NaN</td>\n",
       "      <td>NaN</td>\n",
       "      <td>NaN</td>\n",
       "      <td>0.022904</td>\n",
       "      <td>0.0</td>\n",
       "    </tr>\n",
       "    <tr>\n",
       "      <th>2001-01-05</th>\n",
       "      <td>-0.041128</td>\n",
       "      <td>-0.0</td>\n",
       "      <td>0.041128</td>\n",
       "      <td>-0.041128</td>\n",
       "      <td>-0.0</td>\n",
       "      <td>-0.062390</td>\n",
       "      <td>-0.0</td>\n",
       "      <td>0.062390</td>\n",
       "      <td>-0.062390</td>\n",
       "      <td>-0.0</td>\n",
       "      <td>...</td>\n",
       "      <td>0.009840</td>\n",
       "      <td>0.0</td>\n",
       "      <td>-0.009840</td>\n",
       "      <td>0.009840</td>\n",
       "      <td>0.0</td>\n",
       "      <td>0.007868</td>\n",
       "      <td>0.0</td>\n",
       "      <td>-0.007868</td>\n",
       "      <td>0.007868</td>\n",
       "      <td>0.0</td>\n",
       "    </tr>\n",
       "    <tr>\n",
       "      <th>2001-01-08</th>\n",
       "      <td>0.011385</td>\n",
       "      <td>0.0</td>\n",
       "      <td>-0.011385</td>\n",
       "      <td>0.011385</td>\n",
       "      <td>0.0</td>\n",
       "      <td>0.025425</td>\n",
       "      <td>0.0</td>\n",
       "      <td>-0.025425</td>\n",
       "      <td>0.025425</td>\n",
       "      <td>0.0</td>\n",
       "      <td>...</td>\n",
       "      <td>-0.007900</td>\n",
       "      <td>-0.0</td>\n",
       "      <td>0.007900</td>\n",
       "      <td>-0.007900</td>\n",
       "      <td>-0.0</td>\n",
       "      <td>-0.010821</td>\n",
       "      <td>-0.0</td>\n",
       "      <td>0.010821</td>\n",
       "      <td>-0.010821</td>\n",
       "      <td>-0.0</td>\n",
       "    </tr>\n",
       "    <tr>\n",
       "      <th>2001-01-09</th>\n",
       "      <td>0.037042</td>\n",
       "      <td>0.0</td>\n",
       "      <td>-0.037042</td>\n",
       "      <td>0.037042</td>\n",
       "      <td>0.0</td>\n",
       "      <td>0.091881</td>\n",
       "      <td>0.0</td>\n",
       "      <td>-0.091881</td>\n",
       "      <td>0.091881</td>\n",
       "      <td>0.0</td>\n",
       "      <td>...</td>\n",
       "      <td>-0.006897</td>\n",
       "      <td>-0.0</td>\n",
       "      <td>0.006897</td>\n",
       "      <td>-0.006897</td>\n",
       "      <td>-0.0</td>\n",
       "      <td>-0.003492</td>\n",
       "      <td>-0.0</td>\n",
       "      <td>0.003492</td>\n",
       "      <td>-0.003492</td>\n",
       "      <td>-0.0</td>\n",
       "    </tr>\n",
       "    <tr>\n",
       "      <th>2001-01-10</th>\n",
       "      <td>-0.037042</td>\n",
       "      <td>-0.0</td>\n",
       "      <td>0.037042</td>\n",
       "      <td>-0.037042</td>\n",
       "      <td>-0.0</td>\n",
       "      <td>0.007605</td>\n",
       "      <td>0.0</td>\n",
       "      <td>-0.007605</td>\n",
       "      <td>0.007605</td>\n",
       "      <td>0.0</td>\n",
       "      <td>...</td>\n",
       "      <td>-0.017544</td>\n",
       "      <td>-0.0</td>\n",
       "      <td>0.017544</td>\n",
       "      <td>-0.017544</td>\n",
       "      <td>-0.0</td>\n",
       "      <td>-0.006807</td>\n",
       "      <td>-0.0</td>\n",
       "      <td>0.006807</td>\n",
       "      <td>-0.006807</td>\n",
       "      <td>-0.0</td>\n",
       "    </tr>\n",
       "  </tbody>\n",
       "</table>\n",
       "<p>5 rows × 60 columns</p>\n",
       "</div>"
      ],
      "text/plain": [
       "            AAPL-BMK-MA  AAPL-MAFlat  AAPL-MAShort  AAPL-BMK-BB  AAPL-BB  \\\n",
       "2001-01-04          NaN          NaN           NaN     0.041128      0.0   \n",
       "2001-01-05    -0.041128         -0.0      0.041128    -0.041128     -0.0   \n",
       "2001-01-08     0.011385          0.0     -0.011385     0.011385      0.0   \n",
       "2001-01-09     0.037042          0.0     -0.037042     0.037042      0.0   \n",
       "2001-01-10    -0.037042         -0.0      0.037042    -0.037042     -0.0   \n",
       "\n",
       "            AMZN-BMK-MA  AMZN-MAFlat  AMZN-MAShort  AMZN-BMK-BB  AMZN-BB  ...  \\\n",
       "2001-01-04          NaN          NaN           NaN    -0.124926     -0.0  ...   \n",
       "2001-01-05    -0.062390         -0.0      0.062390    -0.062390     -0.0  ...   \n",
       "2001-01-08     0.025425          0.0     -0.025425     0.025425      0.0  ...   \n",
       "2001-01-09     0.091881          0.0     -0.091881     0.091881      0.0  ...   \n",
       "2001-01-10     0.007605          0.0     -0.007605     0.007605      0.0  ...   \n",
       "\n",
       "            AUD-BMK-MA  AUD-MAFlat  AUD-MAShort  AUD-BMK-BB  AUD-BB  \\\n",
       "2001-01-04         NaN         NaN          NaN    0.017277     0.0   \n",
       "2001-01-05    0.009840         0.0    -0.009840    0.009840     0.0   \n",
       "2001-01-08   -0.007900        -0.0     0.007900   -0.007900    -0.0   \n",
       "2001-01-09   -0.006897        -0.0     0.006897   -0.006897    -0.0   \n",
       "2001-01-10   -0.017544        -0.0     0.017544   -0.017544    -0.0   \n",
       "\n",
       "            EUR-BMK-MA  EUR-MAFlat  EUR-MAShort  EUR-BMK-BB  EUR-BB  \n",
       "2001-01-04         NaN         NaN          NaN    0.022904     0.0  \n",
       "2001-01-05    0.007868         0.0    -0.007868    0.007868     0.0  \n",
       "2001-01-08   -0.010821        -0.0     0.010821   -0.010821    -0.0  \n",
       "2001-01-09   -0.003492        -0.0     0.003492   -0.003492    -0.0  \n",
       "2001-01-10   -0.006807        -0.0     0.006807   -0.006807    -0.0  \n",
       "\n",
       "[5 rows x 60 columns]"
      ]
     },
     "execution_count": 31,
     "metadata": {},
     "output_type": "execute_result"
    }
   ],
   "source": [
    "# Concatenate all 12 dataFrames horizontally to create a master DataFrame with 60 columns\n",
    "master_df = pd.concat(dataframes, axis=1)\n",
    "\n",
    "# Display the master DataFrame\n",
    "master_df.head()"
   ]
  },
  {
   "cell_type": "code",
   "execution_count": 32,
   "id": "db93d193-bc68-4c3b-af99-af1f7581aa30",
   "metadata": {
    "tags": []
   },
   "outputs": [
    {
     "name": "stderr",
     "output_type": "stream",
     "text": [
      "/Users/prash/anaconda3/lib/python3.11/site-packages/numpy/core/fromnumeric.py:3462: FutureWarning: In a future version, DataFrame.mean(axis=None) will return a scalar mean over the entire DataFrame. To retain the old behavior, use 'frame.mean(axis=0)' or just 'frame.mean()'\n",
      "  return mean(axis=axis, dtype=dtype, out=out, **kwargs)\n"
     ]
    },
    {
     "data": {
      "text/plain": [
       "AAPL-BMK-MA       0.759495\n",
       "AAPL-MAFlat       0.750827\n",
       "AAPL-MAShort      0.442235\n",
       "AAPL-BMK-BB       0.759495\n",
       "AAPL-BB          -0.096850\n",
       "AMZN-BMK-MA       0.540928\n",
       "AMZN-MAFlat       0.789243\n",
       "AMZN-MAShort      0.524763\n",
       "AMZN-BMK-BB       0.540928\n",
       "AMZN-BB           0.326740\n",
       "ATT-BMK-MA       -0.137123\n",
       "ATT-MAFlat       -0.012946\n",
       "ATT-MAShort       0.123212\n",
       "ATT-BMK-BB       -0.137123\n",
       "ATT-BB            0.160001\n",
       "GE-BMK-MA        -0.346671\n",
       "GE-MAFlat         0.070300\n",
       "GE-MAShort        0.414727\n",
       "GE-BMK-BB        -0.346671\n",
       "GE-BB             0.048710\n",
       "INTC-BMK-MA       0.053990\n",
       "INTC-MAFlat       0.024749\n",
       "INTC-MAShort     -0.023152\n",
       "INTC-BMK-BB       0.053990\n",
       "INTC-BB          -0.280401\n",
       "SPY-BMK-MA        0.188172\n",
       "SPY-MAFlat        0.478402\n",
       "SPY-MAShort       0.396209\n",
       "SPY-BMK-BB        0.188172\n",
       "SPY-BB            0.064938\n",
       "FBNDX-BMK-MA      0.093903\n",
       "FBNDX-MAFlat      0.118720\n",
       "FBNDX-MAShort     0.072329\n",
       "FBNDX-BMK-BB      0.093903\n",
       "FBNDX-BB          0.095704\n",
       "LEHM-BMK-MA       0.222757\n",
       "LEHM-MAFlat       0.112773\n",
       "LEHM-MAShort     -0.041238\n",
       "LEHM-BMK-BB       0.222757\n",
       "LEHM-BB           0.244590\n",
       "GOLD-BMK-MA       0.505224\n",
       "GOLD-MAFlat       0.542108\n",
       "GOLD-MAShort      0.395391\n",
       "GOLD-BMK-BB       0.505224\n",
       "GOLD-BB           0.017118\n",
       "SILVER-BMK-MA     0.227801\n",
       "SILVER-MAFlat     0.258389\n",
       "SILVER-MAShort    0.181781\n",
       "SILVER-BMK-BB     0.227801\n",
       "SILVER-BB         0.057681\n",
       "AUD-BMK-MA        0.096203\n",
       "AUD-MAFlat        0.168492\n",
       "AUD-MAShort       0.136467\n",
       "AUD-BMK-BB        0.096203\n",
       "AUD-BB           -0.004844\n",
       "EUR-BMK-MA        0.108988\n",
       "EUR-MAFlat        0.094521\n",
       "EUR-MAShort       0.025751\n",
       "EUR-BMK-BB        0.108988\n",
       "EUR-BB            0.289383\n",
       "dtype: float64"
      ]
     },
     "execution_count": 32,
     "metadata": {},
     "output_type": "execute_result"
    }
   ],
   "source": [
    "master_sharpe_ratio = calculate_sharpe_ratio(master_df.dropna())\n",
    "master_sharpe_ratio.head(60)"
   ]
  },
  {
   "cell_type": "markdown",
   "id": "179aaa99-f9de-472c-8be0-040e1710bcfa",
   "metadata": {},
   "source": [
    "## Question 7"
   ]
  },
  {
   "cell_type": "markdown",
   "id": "43dc9a79-5a7d-4233-9ed4-998bb9285dc6",
   "metadata": {},
   "source": [
    "### Rationale for Portfolio Choices\n",
    "\n",
    "In constructing this portfolio, the main goal was to achieve a Sharpe ratio greater than 1.0, while ensuring that the portfolio's Sharpe ratio surpassed that of any individual strategy. To accomplish this, we focused on selecting high-Sharpe strategies while combining instruments that exhibit low or negative correlations. This diversification helped reduce portfolio risk and enhance the overall Sharpe ratio.\n",
    "\n",
    "#### 1. Equity Instruments:\n",
    "Equities are typically highly correlated, especially during broader market movements. However, by applying different technical strategies to each equity, I aimed to reduce these correlations, leading to better overall performance by lowering risk exposure. Here’s why the selected strategies were chosen:\n",
    "\n",
    "- **AAPL (MAFlat):** This strategy was selected for AAPL to capture gains during rising trends, while staying flat during market neutral or downtrends. The MAFlat strategy provides lower risk exposure during market corrections, contributing to a stable Sharpe ratio.\n",
    "\n",
    "- **AMZN (MAFlat):** The same MAFlat strategy was applied to AMZN due to its volatile nature. This strategy ensures a hold during uptrends while avoiding unnecessary losses in downturns, providing a strong risk-adjusted return for AMZN.\n",
    "\n",
    "- **SPY (MAFlat):** SPY's historical behavior aligns well with the MAFlat strategy. This approach leverages uptrends in the broad market index while minimizing exposure during neutral or declining trends.\n",
    "\n",
    "- **GE (MAShort):** GE, as an industrial stock, performs cyclically. The MAShort strategy was selected to benefit from shorting in downtrends, minimizing losses during GE’s weaker performance periods.\n",
    "\n",
    "- **INTC (BB):** Bollinger Bands were applied to INTC due to its price volatility and cyclical behavior. The BB strategy allows INTC to capitalize on deviations from the rolling mean, reducing risk exposure in highly volatile markets.\n",
    "\n",
    "#### 2. Non-Equity Instruments:\n",
    "Including non-equity instruments such as bonds, commodities, and currencies was crucial to lowering correlation with the equities. These instruments typically have lower or even negative correlations with stocks, improving portfolio balance.\n",
    "\n",
    "- **FBNDX (BMK-MA)**: As a bond index, FBNDX offers stability and lower risk, especially during equity market volatility. The BMK-MA strategy provided consistent returns with lower risk exposure, complementing the riskier equity portion of the portfolio.\n",
    "\n",
    "- **AUD (BB)**: The AUD currency is influenced by different market factors than equities, making it a strong candidate for diversification. The BB strategy was chosen to capture volatility-driven opportunities in the currency market.\n",
    "\n",
    "- **GOLD (MAShort)**: Gold often moves inversely to equities, especially during times of market stress. The MAShort strategy capitalizes on downtrends in this commodity, providing portfolio protection during turbulent times.\n",
    "\n",
    "#### 3. Strategy Diversification:\n",
    "Diversifying strategies across instruments helped ensure the portfolio was not overexposed to any single market condition. By blending MAShort, MAFlat, and BB strategies, we reduced the chances of all instruments moving in the same direction simultaneously. This combination of trend-following (MAFlat, MAShort) and volatility-based (BB) strategies improved risk-adjusted returns."
   ]
  },
  {
   "cell_type": "markdown",
   "id": "3a3e1e25-5093-4827-9811-18ea6375c5a0",
   "metadata": {},
   "source": [
    "## Question 8"
   ]
  },
  {
   "cell_type": "markdown",
   "id": "22c9e723-06da-4920-a33f-693d2eae59c3",
   "metadata": {},
   "source": [
    "In this section, we focus on constructing a subset of the master DataFrame that contains only the selected strategies for the final portfolio.\n",
    "\n",
    "We begin by defining the list of chosen strategies, myStrategies, which include a mix of technical strategies such as Moving Average (MA) Crossover (flat and short) and Bollinger Bands (BB). These strategies were selected based on their performance in previous analysis and their contribution to portfolio diversification.\n",
    "\n",
    "Next, the strategies are sorted alphabetically to ensure a consistent order when subsetting the data. This is important for maintaining clarity and making it easier to reference the strategies when performing further analysis.\n",
    "\n",
    "Using this sorted list, the myStrategies_df DataFrame is created by subsetting the master_df to include only the columns related to the chosen strategies. This resulting DataFrame will contain the daily returns for the eight selected strategies, which will later be used for portfolio analysis and performance evaluation.\n",
    "\n",
    "Finally, the first few rows of the myStrategies_df are displayed to ensure that the subsetting was successful and that the DataFrame is ready for further analysis."
   ]
  },
  {
   "cell_type": "code",
   "execution_count": 37,
   "id": "5877f2bb-ec47-40c0-99fe-979075eb8940",
   "metadata": {
    "tags": []
   },
   "outputs": [],
   "source": [
    "# Sort the strategies alphabetically\n",
    "myStrategies_sorted = sorted(myStrategies)"
   ]
  },
  {
   "cell_type": "code",
   "execution_count": 38,
   "id": "5bf695d4-867f-4ab6-91e1-5b8d75e629c5",
   "metadata": {},
   "outputs": [],
   "source": [
    "master_df = master_df.dropna()"
   ]
  },
  {
   "cell_type": "code",
   "execution_count": 39,
   "id": "c2117907-8e04-4b40-99c9-268d4ce5ad1f",
   "metadata": {
    "tags": []
   },
   "outputs": [
    {
     "data": {
      "text/html": [
       "<div>\n",
       "<style scoped>\n",
       "    .dataframe tbody tr th:only-of-type {\n",
       "        vertical-align: middle;\n",
       "    }\n",
       "\n",
       "    .dataframe tbody tr th {\n",
       "        vertical-align: top;\n",
       "    }\n",
       "\n",
       "    .dataframe thead th {\n",
       "        text-align: right;\n",
       "    }\n",
       "</style>\n",
       "<table border=\"1\" class=\"dataframe\">\n",
       "  <thead>\n",
       "    <tr style=\"text-align: right;\">\n",
       "      <th></th>\n",
       "      <th>AAPL-BMK-MA</th>\n",
       "      <th>AAPL-MAFlat</th>\n",
       "      <th>AAPL-MAShort</th>\n",
       "      <th>AAPL-BMK-BB</th>\n",
       "      <th>AAPL-BB</th>\n",
       "      <th>AMZN-BMK-MA</th>\n",
       "      <th>AMZN-MAFlat</th>\n",
       "      <th>AMZN-MAShort</th>\n",
       "      <th>AMZN-BMK-BB</th>\n",
       "      <th>AMZN-BB</th>\n",
       "      <th>...</th>\n",
       "      <th>AUD-BMK-MA</th>\n",
       "      <th>AUD-MAFlat</th>\n",
       "      <th>AUD-MAShort</th>\n",
       "      <th>AUD-BMK-BB</th>\n",
       "      <th>AUD-BB</th>\n",
       "      <th>EUR-BMK-MA</th>\n",
       "      <th>EUR-MAFlat</th>\n",
       "      <th>EUR-MAShort</th>\n",
       "      <th>EUR-BMK-BB</th>\n",
       "      <th>EUR-BB</th>\n",
       "    </tr>\n",
       "  </thead>\n",
       "  <tbody>\n",
       "    <tr>\n",
       "      <th>2001-01-05</th>\n",
       "      <td>-0.041128</td>\n",
       "      <td>-0.0</td>\n",
       "      <td>0.041128</td>\n",
       "      <td>-0.041128</td>\n",
       "      <td>-0.0</td>\n",
       "      <td>-0.062390</td>\n",
       "      <td>-0.0</td>\n",
       "      <td>0.062390</td>\n",
       "      <td>-0.062390</td>\n",
       "      <td>-0.0</td>\n",
       "      <td>...</td>\n",
       "      <td>0.009840</td>\n",
       "      <td>0.0</td>\n",
       "      <td>-0.009840</td>\n",
       "      <td>0.009840</td>\n",
       "      <td>0.0</td>\n",
       "      <td>0.007868</td>\n",
       "      <td>0.0</td>\n",
       "      <td>-0.007868</td>\n",
       "      <td>0.007868</td>\n",
       "      <td>0.0</td>\n",
       "    </tr>\n",
       "    <tr>\n",
       "      <th>2001-01-08</th>\n",
       "      <td>0.011385</td>\n",
       "      <td>0.0</td>\n",
       "      <td>-0.011385</td>\n",
       "      <td>0.011385</td>\n",
       "      <td>0.0</td>\n",
       "      <td>0.025425</td>\n",
       "      <td>0.0</td>\n",
       "      <td>-0.025425</td>\n",
       "      <td>0.025425</td>\n",
       "      <td>0.0</td>\n",
       "      <td>...</td>\n",
       "      <td>-0.007900</td>\n",
       "      <td>-0.0</td>\n",
       "      <td>0.007900</td>\n",
       "      <td>-0.007900</td>\n",
       "      <td>-0.0</td>\n",
       "      <td>-0.010821</td>\n",
       "      <td>-0.0</td>\n",
       "      <td>0.010821</td>\n",
       "      <td>-0.010821</td>\n",
       "      <td>-0.0</td>\n",
       "    </tr>\n",
       "    <tr>\n",
       "      <th>2001-01-09</th>\n",
       "      <td>0.037042</td>\n",
       "      <td>0.0</td>\n",
       "      <td>-0.037042</td>\n",
       "      <td>0.037042</td>\n",
       "      <td>0.0</td>\n",
       "      <td>0.091881</td>\n",
       "      <td>0.0</td>\n",
       "      <td>-0.091881</td>\n",
       "      <td>0.091881</td>\n",
       "      <td>0.0</td>\n",
       "      <td>...</td>\n",
       "      <td>-0.006897</td>\n",
       "      <td>-0.0</td>\n",
       "      <td>0.006897</td>\n",
       "      <td>-0.006897</td>\n",
       "      <td>-0.0</td>\n",
       "      <td>-0.003492</td>\n",
       "      <td>-0.0</td>\n",
       "      <td>0.003492</td>\n",
       "      <td>-0.003492</td>\n",
       "      <td>-0.0</td>\n",
       "    </tr>\n",
       "    <tr>\n",
       "      <th>2001-01-10</th>\n",
       "      <td>-0.037042</td>\n",
       "      <td>-0.0</td>\n",
       "      <td>0.037042</td>\n",
       "      <td>-0.037042</td>\n",
       "      <td>-0.0</td>\n",
       "      <td>0.007605</td>\n",
       "      <td>0.0</td>\n",
       "      <td>-0.007605</td>\n",
       "      <td>0.007605</td>\n",
       "      <td>0.0</td>\n",
       "      <td>...</td>\n",
       "      <td>-0.017544</td>\n",
       "      <td>-0.0</td>\n",
       "      <td>0.017544</td>\n",
       "      <td>-0.017544</td>\n",
       "      <td>-0.0</td>\n",
       "      <td>-0.006807</td>\n",
       "      <td>-0.0</td>\n",
       "      <td>0.006807</td>\n",
       "      <td>-0.006807</td>\n",
       "      <td>-0.0</td>\n",
       "    </tr>\n",
       "    <tr>\n",
       "      <th>2001-01-11</th>\n",
       "      <td>0.083232</td>\n",
       "      <td>0.0</td>\n",
       "      <td>-0.083232</td>\n",
       "      <td>0.083232</td>\n",
       "      <td>0.0</td>\n",
       "      <td>0.029853</td>\n",
       "      <td>0.0</td>\n",
       "      <td>-0.029853</td>\n",
       "      <td>0.029853</td>\n",
       "      <td>0.0</td>\n",
       "      <td>...</td>\n",
       "      <td>0.011849</td>\n",
       "      <td>0.0</td>\n",
       "      <td>-0.011849</td>\n",
       "      <td>0.011849</td>\n",
       "      <td>0.0</td>\n",
       "      <td>0.015777</td>\n",
       "      <td>0.0</td>\n",
       "      <td>-0.015777</td>\n",
       "      <td>0.015777</td>\n",
       "      <td>0.0</td>\n",
       "    </tr>\n",
       "  </tbody>\n",
       "</table>\n",
       "<p>5 rows × 60 columns</p>\n",
       "</div>"
      ],
      "text/plain": [
       "            AAPL-BMK-MA  AAPL-MAFlat  AAPL-MAShort  AAPL-BMK-BB  AAPL-BB  \\\n",
       "2001-01-05    -0.041128         -0.0      0.041128    -0.041128     -0.0   \n",
       "2001-01-08     0.011385          0.0     -0.011385     0.011385      0.0   \n",
       "2001-01-09     0.037042          0.0     -0.037042     0.037042      0.0   \n",
       "2001-01-10    -0.037042         -0.0      0.037042    -0.037042     -0.0   \n",
       "2001-01-11     0.083232          0.0     -0.083232     0.083232      0.0   \n",
       "\n",
       "            AMZN-BMK-MA  AMZN-MAFlat  AMZN-MAShort  AMZN-BMK-BB  AMZN-BB  ...  \\\n",
       "2001-01-05    -0.062390         -0.0      0.062390    -0.062390     -0.0  ...   \n",
       "2001-01-08     0.025425          0.0     -0.025425     0.025425      0.0  ...   \n",
       "2001-01-09     0.091881          0.0     -0.091881     0.091881      0.0  ...   \n",
       "2001-01-10     0.007605          0.0     -0.007605     0.007605      0.0  ...   \n",
       "2001-01-11     0.029853          0.0     -0.029853     0.029853      0.0  ...   \n",
       "\n",
       "            AUD-BMK-MA  AUD-MAFlat  AUD-MAShort  AUD-BMK-BB  AUD-BB  \\\n",
       "2001-01-05    0.009840         0.0    -0.009840    0.009840     0.0   \n",
       "2001-01-08   -0.007900        -0.0     0.007900   -0.007900    -0.0   \n",
       "2001-01-09   -0.006897        -0.0     0.006897   -0.006897    -0.0   \n",
       "2001-01-10   -0.017544        -0.0     0.017544   -0.017544    -0.0   \n",
       "2001-01-11    0.011849         0.0    -0.011849    0.011849     0.0   \n",
       "\n",
       "            EUR-BMK-MA  EUR-MAFlat  EUR-MAShort  EUR-BMK-BB  EUR-BB  \n",
       "2001-01-05    0.007868         0.0    -0.007868    0.007868     0.0  \n",
       "2001-01-08   -0.010821        -0.0     0.010821   -0.010821    -0.0  \n",
       "2001-01-09   -0.003492        -0.0     0.003492   -0.003492    -0.0  \n",
       "2001-01-10   -0.006807        -0.0     0.006807   -0.006807    -0.0  \n",
       "2001-01-11    0.015777         0.0    -0.015777    0.015777     0.0  \n",
       "\n",
       "[5 rows x 60 columns]"
      ]
     },
     "execution_count": 39,
     "metadata": {},
     "output_type": "execute_result"
    }
   ],
   "source": [
    "master_df.head()"
   ]
  },
  {
   "cell_type": "code",
   "execution_count": 40,
   "id": "3e1afea3-ca62-463b-bd8c-942df3cf3335",
   "metadata": {
    "tags": []
   },
   "outputs": [],
   "source": [
    "# Subset the master_df to include only the columns for the chosen strategies\n",
    "myStrategies_df = master_df[myStrategies_sorted].dropna()"
   ]
  },
  {
   "cell_type": "code",
   "execution_count": 41,
   "id": "3456c8b5-644b-429e-ae68-360a996c978e",
   "metadata": {
    "tags": []
   },
   "outputs": [
    {
     "data": {
      "text/html": [
       "<div>\n",
       "<style scoped>\n",
       "    .dataframe tbody tr th:only-of-type {\n",
       "        vertical-align: middle;\n",
       "    }\n",
       "\n",
       "    .dataframe tbody tr th {\n",
       "        vertical-align: top;\n",
       "    }\n",
       "\n",
       "    .dataframe thead th {\n",
       "        text-align: right;\n",
       "    }\n",
       "</style>\n",
       "<table border=\"1\" class=\"dataframe\">\n",
       "  <thead>\n",
       "    <tr style=\"text-align: right;\">\n",
       "      <th></th>\n",
       "      <th>AAPL-MAFlat</th>\n",
       "      <th>AMZN-MAFlat</th>\n",
       "      <th>AUD-BB</th>\n",
       "      <th>FBNDX-BMK-MA</th>\n",
       "      <th>GE-MAShort</th>\n",
       "      <th>GOLD-MAShort</th>\n",
       "      <th>INTC-BB</th>\n",
       "      <th>SPY-MAFlat</th>\n",
       "    </tr>\n",
       "  </thead>\n",
       "  <tbody>\n",
       "    <tr>\n",
       "      <th>2001-01-05</th>\n",
       "      <td>-0.0</td>\n",
       "      <td>-0.0</td>\n",
       "      <td>0.0</td>\n",
       "      <td>0.002770</td>\n",
       "      <td>-0.015728</td>\n",
       "      <td>-0.002240</td>\n",
       "      <td>-0.0</td>\n",
       "      <td>-0.0</td>\n",
       "    </tr>\n",
       "    <tr>\n",
       "      <th>2001-01-08</th>\n",
       "      <td>0.0</td>\n",
       "      <td>0.0</td>\n",
       "      <td>-0.0</td>\n",
       "      <td>0.001382</td>\n",
       "      <td>-0.037690</td>\n",
       "      <td>-0.000746</td>\n",
       "      <td>-0.0</td>\n",
       "      <td>0.0</td>\n",
       "    </tr>\n",
       "    <tr>\n",
       "      <th>2001-01-09</th>\n",
       "      <td>0.0</td>\n",
       "      <td>0.0</td>\n",
       "      <td>-0.0</td>\n",
       "      <td>-0.002766</td>\n",
       "      <td>-0.020791</td>\n",
       "      <td>0.002238</td>\n",
       "      <td>0.0</td>\n",
       "      <td>-0.0</td>\n",
       "    </tr>\n",
       "    <tr>\n",
       "      <th>2001-01-10</th>\n",
       "      <td>-0.0</td>\n",
       "      <td>0.0</td>\n",
       "      <td>-0.0</td>\n",
       "      <td>-0.002774</td>\n",
       "      <td>0.001400</td>\n",
       "      <td>0.010513</td>\n",
       "      <td>0.0</td>\n",
       "      <td>0.0</td>\n",
       "    </tr>\n",
       "    <tr>\n",
       "      <th>2001-01-11</th>\n",
       "      <td>0.0</td>\n",
       "      <td>0.0</td>\n",
       "      <td>0.0</td>\n",
       "      <td>-0.001390</td>\n",
       "      <td>0.041102</td>\n",
       "      <td>0.002646</td>\n",
       "      <td>0.0</td>\n",
       "      <td>0.0</td>\n",
       "    </tr>\n",
       "  </tbody>\n",
       "</table>\n",
       "</div>"
      ],
      "text/plain": [
       "            AAPL-MAFlat  AMZN-MAFlat  AUD-BB  FBNDX-BMK-MA  GE-MAShort  \\\n",
       "2001-01-05         -0.0         -0.0     0.0      0.002770   -0.015728   \n",
       "2001-01-08          0.0          0.0    -0.0      0.001382   -0.037690   \n",
       "2001-01-09          0.0          0.0    -0.0     -0.002766   -0.020791   \n",
       "2001-01-10         -0.0          0.0    -0.0     -0.002774    0.001400   \n",
       "2001-01-11          0.0          0.0     0.0     -0.001390    0.041102   \n",
       "\n",
       "            GOLD-MAShort  INTC-BB  SPY-MAFlat  \n",
       "2001-01-05     -0.002240     -0.0        -0.0  \n",
       "2001-01-08     -0.000746     -0.0         0.0  \n",
       "2001-01-09      0.002238      0.0        -0.0  \n",
       "2001-01-10      0.010513      0.0         0.0  \n",
       "2001-01-11      0.002646      0.0         0.0  "
      ]
     },
     "execution_count": 41,
     "metadata": {},
     "output_type": "execute_result"
    }
   ],
   "source": [
    "# Display the first few rows of the resulting DataFrame\n",
    "myStrategies_df.head()"
   ]
  },
  {
   "cell_type": "markdown",
   "id": "f0d80bf2-53f1-406b-997a-5ef14b5dbb59",
   "metadata": {},
   "source": [
    "## Question 9"
   ]
  },
  {
   "cell_type": "markdown",
   "id": "1066cb55-46c1-4133-ac29-e49c8557729e",
   "metadata": {},
   "source": [
    "We calculate the correlation matrix for the selected strategies in the portfolio using the myStrategies_df DataFrame. The corr() method is used to compute the pairwise correlation coefficients between the strategies' returns. This matrix helps in understanding the relationships between the different strategies and identifying any diversification benefits.\n",
    "\n",
    "After calculating the correlation matrix, it is displayed to assess how each strategy correlates with the others, which is crucial for understanding the portfolio's risk structure and ensuring that diversification is achieved."
   ]
  },
  {
   "cell_type": "code",
   "execution_count": 44,
   "id": "ad528442-a31d-4b60-b898-3b09af8e9f6c",
   "metadata": {
    "tags": []
   },
   "outputs": [],
   "source": [
    "# Calculate the correlation matrix for the myStrategies DataFrame\n",
    "correlation_matrix = myStrategies_df.corr()"
   ]
  },
  {
   "cell_type": "code",
   "execution_count": 45,
   "id": "0dc6a77b-b283-4947-bd24-39e5c38fc3b3",
   "metadata": {
    "tags": []
   },
   "outputs": [
    {
     "data": {
      "text/html": [
       "<div>\n",
       "<style scoped>\n",
       "    .dataframe tbody tr th:only-of-type {\n",
       "        vertical-align: middle;\n",
       "    }\n",
       "\n",
       "    .dataframe tbody tr th {\n",
       "        vertical-align: top;\n",
       "    }\n",
       "\n",
       "    .dataframe thead th {\n",
       "        text-align: right;\n",
       "    }\n",
       "</style>\n",
       "<table border=\"1\" class=\"dataframe\">\n",
       "  <thead>\n",
       "    <tr style=\"text-align: right;\">\n",
       "      <th></th>\n",
       "      <th>AAPL-MAFlat</th>\n",
       "      <th>AMZN-MAFlat</th>\n",
       "      <th>AUD-BB</th>\n",
       "      <th>FBNDX-BMK-MA</th>\n",
       "      <th>GE-MAShort</th>\n",
       "      <th>GOLD-MAShort</th>\n",
       "      <th>INTC-BB</th>\n",
       "      <th>SPY-MAFlat</th>\n",
       "    </tr>\n",
       "  </thead>\n",
       "  <tbody>\n",
       "    <tr>\n",
       "      <th>AAPL-MAFlat</th>\n",
       "      <td>1.000000</td>\n",
       "      <td>0.291445</td>\n",
       "      <td>0.061874</td>\n",
       "      <td>-0.134925</td>\n",
       "      <td>-0.040055</td>\n",
       "      <td>-0.025040</td>\n",
       "      <td>0.090959</td>\n",
       "      <td>0.420781</td>\n",
       "    </tr>\n",
       "    <tr>\n",
       "      <th>AMZN-MAFlat</th>\n",
       "      <td>0.291445</td>\n",
       "      <td>1.000000</td>\n",
       "      <td>0.039141</td>\n",
       "      <td>-0.111797</td>\n",
       "      <td>-0.002098</td>\n",
       "      <td>-0.000359</td>\n",
       "      <td>0.079760</td>\n",
       "      <td>0.371640</td>\n",
       "    </tr>\n",
       "    <tr>\n",
       "      <th>AUD-BB</th>\n",
       "      <td>0.061874</td>\n",
       "      <td>0.039141</td>\n",
       "      <td>1.000000</td>\n",
       "      <td>0.037331</td>\n",
       "      <td>0.002862</td>\n",
       "      <td>-0.043881</td>\n",
       "      <td>0.000461</td>\n",
       "      <td>0.095955</td>\n",
       "    </tr>\n",
       "    <tr>\n",
       "      <th>FBNDX-BMK-MA</th>\n",
       "      <td>-0.134925</td>\n",
       "      <td>-0.111797</td>\n",
       "      <td>0.037331</td>\n",
       "      <td>1.000000</td>\n",
       "      <td>0.039553</td>\n",
       "      <td>0.070676</td>\n",
       "      <td>-0.037756</td>\n",
       "      <td>-0.169319</td>\n",
       "    </tr>\n",
       "    <tr>\n",
       "      <th>GE-MAShort</th>\n",
       "      <td>-0.040055</td>\n",
       "      <td>-0.002098</td>\n",
       "      <td>0.002862</td>\n",
       "      <td>0.039553</td>\n",
       "      <td>1.000000</td>\n",
       "      <td>0.076029</td>\n",
       "      <td>-0.020205</td>\n",
       "      <td>0.204419</td>\n",
       "    </tr>\n",
       "    <tr>\n",
       "      <th>GOLD-MAShort</th>\n",
       "      <td>-0.025040</td>\n",
       "      <td>-0.000359</td>\n",
       "      <td>-0.043881</td>\n",
       "      <td>0.070676</td>\n",
       "      <td>0.076029</td>\n",
       "      <td>1.000000</td>\n",
       "      <td>0.010622</td>\n",
       "      <td>0.031418</td>\n",
       "    </tr>\n",
       "    <tr>\n",
       "      <th>INTC-BB</th>\n",
       "      <td>0.090959</td>\n",
       "      <td>0.079760</td>\n",
       "      <td>0.000461</td>\n",
       "      <td>-0.037756</td>\n",
       "      <td>-0.020205</td>\n",
       "      <td>0.010622</td>\n",
       "      <td>1.000000</td>\n",
       "      <td>0.056502</td>\n",
       "    </tr>\n",
       "    <tr>\n",
       "      <th>SPY-MAFlat</th>\n",
       "      <td>0.420781</td>\n",
       "      <td>0.371640</td>\n",
       "      <td>0.095955</td>\n",
       "      <td>-0.169319</td>\n",
       "      <td>0.204419</td>\n",
       "      <td>0.031418</td>\n",
       "      <td>0.056502</td>\n",
       "      <td>1.000000</td>\n",
       "    </tr>\n",
       "  </tbody>\n",
       "</table>\n",
       "</div>"
      ],
      "text/plain": [
       "              AAPL-MAFlat  AMZN-MAFlat    AUD-BB  FBNDX-BMK-MA  GE-MAShort  \\\n",
       "AAPL-MAFlat      1.000000     0.291445  0.061874     -0.134925   -0.040055   \n",
       "AMZN-MAFlat      0.291445     1.000000  0.039141     -0.111797   -0.002098   \n",
       "AUD-BB           0.061874     0.039141  1.000000      0.037331    0.002862   \n",
       "FBNDX-BMK-MA    -0.134925    -0.111797  0.037331      1.000000    0.039553   \n",
       "GE-MAShort      -0.040055    -0.002098  0.002862      0.039553    1.000000   \n",
       "GOLD-MAShort    -0.025040    -0.000359 -0.043881      0.070676    0.076029   \n",
       "INTC-BB          0.090959     0.079760  0.000461     -0.037756   -0.020205   \n",
       "SPY-MAFlat       0.420781     0.371640  0.095955     -0.169319    0.204419   \n",
       "\n",
       "              GOLD-MAShort   INTC-BB  SPY-MAFlat  \n",
       "AAPL-MAFlat      -0.025040  0.090959    0.420781  \n",
       "AMZN-MAFlat      -0.000359  0.079760    0.371640  \n",
       "AUD-BB           -0.043881  0.000461    0.095955  \n",
       "FBNDX-BMK-MA      0.070676 -0.037756   -0.169319  \n",
       "GE-MAShort        0.076029 -0.020205    0.204419  \n",
       "GOLD-MAShort      1.000000  0.010622    0.031418  \n",
       "INTC-BB           0.010622  1.000000    0.056502  \n",
       "SPY-MAFlat        0.031418  0.056502    1.000000  "
      ]
     },
     "execution_count": 45,
     "metadata": {},
     "output_type": "execute_result"
    }
   ],
   "source": [
    "# Display the correlation matrix\n",
    "correlation_matrix"
   ]
  },
  {
   "cell_type": "markdown",
   "id": "5fd7c200-a0b0-44f5-8106-247ebc2f6dd0",
   "metadata": {
    "jp-MarkdownHeadingCollapsed": true,
    "tags": []
   },
   "source": [
    "### ANALYSIS:\n",
    "\n",
    "The correlation matrix reveals the relationships between the selected strategies:\n",
    "\n",
    "- **Equities (AAPL, AMZN, SPY, GE, INTC)**: The equity strategies show moderate to low correlations with each other. For instance, AAPL-MAFlat has a correlation of 0.39 with SPY-MAFlat and 0.26 with AMZN-MAFlat. This indicates that while some equities move together, the use of different strategies helps reduce the overall correlation.\n",
    "\n",
    "- **Non-Equities (AUD-BB, FBNDX-BMK-MA, GOLD-MAShort)**: These non-equity instruments exhibit low or even negative correlations with equities. For example, AUD-BB has a correlation of 0.04 with AAPL-MAFlat and 0.04 with SPY-MAFlat, offering strong diversification potential.\n",
    "\n",
    "- **Bonds (FBNDX-BMK-MA)**: The bond strategy has low or negative correlations with equities. For example, FBNDX-BMK-MA has a correlation of -0.11 with AAPL-MAFlat and -0.13 with SPY-MAFlat, helping to provide stability to the portfolio during volatile market conditions.\n",
    "\n",
    "#### Key Takeaway:\n",
    "The combination of low-correlation non-equities and equities helps achieve diversification, reducing overall portfolio risk and enhancing the Sharpe ratio.\n"
   ]
  },
  {
   "cell_type": "markdown",
   "id": "68e2d1d9-4e5f-422f-bf1d-0759d5dcffc7",
   "metadata": {},
   "source": [
    "## Question 10"
   ]
  },
  {
   "cell_type": "markdown",
   "id": "170f1553-06ea-4015-98fd-c182e675408c",
   "metadata": {},
   "source": [
    "This block of code calculates the performance of an equal-weighted portfolio of selected strategies. First, it determines the number of strategies and assigns equal weights to each strategy by dividing 1 by the total number of strategies. Next, it calculates the annualized mean returns and the covariance matrix of the strategies by multiplying the daily returns and covariances by 260, the approximate number of trading days in a year.\n",
    "\n",
    "The code then computes the portfolio’s expected annualized return by taking the weighted sum of the individual strategy returns. It calculates the portfolio variance using the formula weights.T * cov_matrix * weights, which considers both the volatilities and correlations between the strategies. From the variance, the portfolio’s risk, or standard deviation, is determined by taking the square root.\n",
    "\n",
    "The Sharpe ratio, a measure of risk-adjusted return, is calculated assuming a risk-free rate of 0. The daily returns of the equal-weighted portfolio are also calculated by averaging the returns of all individual strategies.\n",
    "\n",
    "Finally, the Sharpe ratio of the equal-weighted portfolio is compared with the Sharpe ratios of the individual strategies. If the portfolio’s Sharpe ratio is higher than that of every individual strategy, the code outputs that the portfolio outperforms all the individual strategies; otherwise, it prints that the portfolio does not outperform every strategy."
   ]
  },
  {
   "cell_type": "code",
   "execution_count": 49,
   "id": "2fe5b9df-469e-41f2-b3b2-e26ab15896c4",
   "metadata": {
    "tags": []
   },
   "outputs": [
    {
     "name": "stdout",
     "output_type": "stream",
     "text": [
      "[0.125 0.125 0.125 0.125 0.125 0.125 0.125 0.125]\n",
      "0.08883007649586738   0.007770029049746417\n",
      "Equal-Weighted Portfolio Annualized Return: 0.08883007649586738\n",
      "Equal-Weighted Portfolio Annualized Std Dev: 0.08814776826299357\n",
      "Equal-Weighted Portfolio Sharpe Ratio: 1.0077405049080552\n"
     ]
    }
   ],
   "source": [
    "# Number of strategies\n",
    "n_strategies = len(myStrategies_df.columns)\n",
    "\n",
    "# Equal weights for each strategy (1/n)\n",
    "weights = np.ones(n_strategies) / n_strategies\n",
    "\n",
    "print(weights)\n",
    "# Calculate the mean returns and covariance matrix for the strategies\n",
    "mean_returns = myStrategies_df.mean() * 260  # Annualized mean returns\n",
    "cov_matrix = myStrategies_df.cov() * 260  # Annualized covariance matrix\n",
    "\n",
    "\n",
    "\n",
    "# Portfolio return: weighted sum of mean returns\n",
    "portfolio_return = np.dot(weights, mean_returns)\n",
    "\n",
    "# Portfolio variance: weights.T * cov_matrix * weights\n",
    "portfolio_variance = np.dot(weights.T, np.dot(cov_matrix, weights))\n",
    "\n",
    "print(portfolio_return,\" \",portfolio_variance)\n",
    "# Portfolio standard deviation (risk)\n",
    "portfolio_std_dev = np.sqrt(portfolio_variance)\n",
    "\n",
    "# Sharpe ratio (assuming risk-free rate = 0)\n",
    "portfolio_sharpe = portfolio_return / portfolio_std_dev\n",
    "\n",
    "print(f\"Equal-Weighted Portfolio Annualized Return: {portfolio_return}\")\n",
    "print(f\"Equal-Weighted Portfolio Annualized Std Dev: {portfolio_std_dev}\")\n",
    "print(f\"Equal-Weighted Portfolio Sharpe Ratio: {portfolio_sharpe}\")"
   ]
  },
  {
   "cell_type": "code",
   "execution_count": 50,
   "id": "b5582458-d4f6-4a3d-ba2b-6538a545a80c",
   "metadata": {
    "tags": []
   },
   "outputs": [],
   "source": [
    "# Calculate the daily returns of an equal-weighted portfolio\n",
    "equal_weighted_portfolio_returns = myStrategies_df.mean(axis=1)"
   ]
  },
  {
   "cell_type": "code",
   "execution_count": 51,
   "id": "de674a4d-533f-4f46-8003-b96d9b644c27",
   "metadata": {
    "tags": []
   },
   "outputs": [],
   "source": [
    "# Calculate the Sharpe ratio for the equal-weighted portfolio\n",
    "portfolio_sharpe_ratio = calculate_sharpe_ratio(equal_weighted_portfolio_returns)"
   ]
  },
  {
   "cell_type": "code",
   "execution_count": 52,
   "id": "d1672b39-79a7-4aea-8812-1f2d1f44f176",
   "metadata": {
    "tags": []
   },
   "outputs": [
    {
     "name": "stdout",
     "output_type": "stream",
     "text": [
      "Annualized Sharpe Ratio for the Equal-Weighted Portfolio: 1.0077405049080552\n"
     ]
    }
   ],
   "source": [
    "# Print the portfolio Sharpe ratio\n",
    "print(f'Annualized Sharpe Ratio for the Equal-Weighted Portfolio: {portfolio_sharpe}')"
   ]
  },
  {
   "cell_type": "code",
   "execution_count": 53,
   "id": "5e2091c7-866d-4026-bbbe-5dc505dbf8c8",
   "metadata": {
    "tags": []
   },
   "outputs": [
    {
     "name": "stdout",
     "output_type": "stream",
     "text": [
      "Individual Strategy Sharpe Ratios: [('AAPL-MAFlat', 1.0259044782330964), ('AAPL-MAShort', 0.7815853955637899), ('AMZN-MAFlat', 0.7892432349076488), ('AMZN-MAShort', 0.5387533708955689), ('SPY-MAFlat', 0.6604634625957803), ('SPY-MAShort', 0.5754523451715678), ('GE-MAFlat', 0.1887390837829924), ('GE-MAShort', 0.5543096695866804), ('INTC-MAFlat', 0.20593411667615938), ('INTC-MAShort', 0.2909059191190979), ('FBNDX-MAFlat', 0.5424547269515368), ('FBNDX-MAShort', 0.6251081742234925), ('GOLD-MAFlat', 0.6711834918947541), ('GOLD-MAShort', 0.6878652737951122), ('AUD-MAFlat', 0.3611661846692332), ('AUD-MAShort', 0.4089384812490124), ('AAPL-BB', -0.0854788090411378), ('AMZN-BB', 0.44180398876078686), ('SPY-BB', 0.44180398876078686), ('GE-BB', 0.44180398876078686), ('INTC-BB', 0.44180398876078686), ('FBNDX-BB', 0.44180398876078686), ('GOLD-BB', 0.44180398876078686), ('AUD-BB', 0.44180398876078686), ('AAPL-BMK', 0.47588452907265366), ('AMZN-BMK', 0.30460974492557547), ('SPY-BMK', 0.14849740388616023), ('GE-BMK', -0.33465144024745214), ('INTC-BMK', 0.018934938600791318), ('FBNDX-BMK', 0.15432667425737356), ('GOLD-BMK', 0.4595278714154719), ('AUD-BMK', 0.029533261677049217)]\n"
     ]
    }
   ],
   "source": [
    "# Compare with individual strategy Sharpe ratios\n",
    "print(f'Individual Strategy Sharpe Ratios: {individual_sharpe_ratios}')"
   ]
  },
  {
   "cell_type": "code",
   "execution_count": 54,
   "id": "033eb8d0-5813-4fc3-a36c-7b4d5ac66ad8",
   "metadata": {
    "tags": []
   },
   "outputs": [
    {
     "name": "stdout",
     "output_type": "stream",
     "text": [
      "The equal-weighted portfolio does not outperform every individual strategy.\n"
     ]
    }
   ],
   "source": [
    "# Check if the portfolio outperforms all individual strategies\n",
    "if portfolio_sharpe_ratio > max([x[1] for x in individual_sharpe_ratios]):\n",
    "    print(\"The equal-weighted portfolio outperforms every individual strategy.\")\n",
    "else:\n",
    "    print(\"The equal-weighted portfolio does not outperform every individual strategy.\")"
   ]
  },
  {
   "cell_type": "markdown",
   "id": "14f3ad18-43e8-4fa7-b0ec-2958a0804660",
   "metadata": {},
   "source": [
    "## Question 11"
   ]
  },
  {
   "cell_type": "markdown",
   "id": "4bdf19bf-1e26-498b-ac54-8c3f5743c876",
   "metadata": {},
   "source": [
    "This block of code performs a Monte Carlo simulation to generate 5,000 random portfolios with varying weights for the selected strategies and calculates the portfolio return, volatility, and Sharpe ratio for each. The goal is to explore a wide range of portfolio allocations to identify those with the best risk-return characteristics.\n",
    "\n",
    "First, the np.random.seed(64) is set to ensure that the random weights generated are reproducible. The annualized returns and the covariance matrix of the strategies are computed using the daily returns from myStrategies_df, and both are multiplied by 260 to annualize them (reflecting the number of trading days in a year).\n",
    "\n",
    "The Monte Carlo simulation iterates 5,000 times, and in each iteration, random weights are generated for the portfolio strategies. These weights are normalized to ensure they sum to 1, which represents a valid allocation of funds across the selected strategies. For each portfolio, the expected return is calculated as the weighted sum of the individual strategy returns, and the volatility is calculated by applying the weights to the covariance matrix. The Sharpe ratio, which measures risk-adjusted return, is then calculated by dividing the portfolio's return by its volatility (assuming a risk-free rate of 0).\n",
    "\n",
    "The results of the simulation—portfolio returns, volatility, and Sharpe ratios—are stored in the results array. The specific weights used for each portfolio are also saved in a DataFrame called weights_record, which keeps track of the weight distribution for the strategies in each portfolio. This simulation helps in identifying portfolios with the highest Sharpe ratios, optimizing the portfolio's risk-return profile."
   ]
  },
  {
   "cell_type": "code",
   "execution_count": 57,
   "id": "caab02de-a140-4e38-ace0-19a292a7959b",
   "metadata": {
    "tags": []
   },
   "outputs": [],
   "source": [
    "np.random.seed(64)  # For reproducibility\n",
    "\n",
    "# returns = myStrategies_df.pct_change().dropna()  # Daily returns of the instruments\n",
    "annual_returns = myStrategies_df.mean() * 260  # Annualized returns\n",
    "cov_matrix = myStrategies_df.cov() * 260  # Annualized covariance matrix\n",
    "\n",
    "num_portfolios = 5000  # Monte Carlo simulation\n",
    "results = np.zeros((3, num_portfolios))\n",
    "weights_record = []\n",
    "\n",
    "for i in range(num_portfolios):\n",
    "    weights = np.random.random(len(annual_returns))\n",
    "    weights /= np.sum(weights)  # Normalize weights to sum to 1\n",
    "    weights_record.append(weights)\n",
    "\n",
    "    # Portfolio return and volatility\n",
    "    portfolio_return = np.sum(weights * annual_returns)\n",
    "    portfolio_volatility = np.sqrt(np.dot(weights.T, np.dot(cov_matrix, weights)))\n",
    "\n",
    "    # Sharpe ratio assuming risk-free rate = 0\n",
    "    sharpe_ratio = portfolio_return / portfolio_volatility\n",
    "\n",
    "    results[0, i] = portfolio_return\n",
    "    results[1, i] = portfolio_volatility\n",
    "    results[2, i] = sharpe_ratio\n",
    "\n",
    "weights_record = pd.DataFrame(weights_record, columns=myStrategies_df.columns)"
   ]
  },
  {
   "cell_type": "code",
   "execution_count": 58,
   "id": "65152d98-6dac-4d5d-94f9-68f1855a79cd",
   "metadata": {
    "tags": []
   },
   "outputs": [
    {
     "data": {
      "text/plain": [
       "array([[0.09534603, 0.10079191, 0.11734366, ..., 0.10452682, 0.06447793,\n",
       "        0.1183588 ],\n",
       "       [0.09319542, 0.09736556, 0.13248774, ..., 0.10145059, 0.08231444,\n",
       "        0.11942497],\n",
       "       [1.02307628, 1.03519065, 0.88569448, ..., 1.03032241, 0.78331247,\n",
       "        0.99107248]])"
      ]
     },
     "execution_count": 58,
     "metadata": {},
     "output_type": "execute_result"
    }
   ],
   "source": [
    "results"
   ]
  },
  {
   "cell_type": "markdown",
   "id": "de4263c9-8857-45b2-988f-ee0245ea18d9",
   "metadata": {},
   "source": [
    "## Question 12"
   ]
  },
  {
   "cell_type": "markdown",
   "id": "8e270f2a-a77f-48a6-96fa-e409c1a69a3c",
   "metadata": {},
   "source": [
    "This block of code generates a scatter plot to visualize the risk-return profile of the 5,000 randomly generated portfolios from the Monte Carlo simulation. Each point on the scatter plot represents a portfolio with its corresponding risk (volatility) and return.\n",
    "\n",
    "First, the plt.figure() function is used to define the size of the plot. The scatter plot is then created with plt.scatter(), where the x-axis represents portfolio volatility (risk), and the y-axis represents portfolio return. The color of each point corresponds to the portfolio’s Sharpe ratio, with the cmap='viridis_r' color map used to color-code the Sharpe ratio values. A color bar is added to the plot to show the scale of the Sharpe ratios, allowing the viewer to easily identify portfolios with higher risk-adjusted returns.\n",
    "\n",
    "The labels for the x-axis (volatility), y-axis (return), and the plot's title are added to make the chart more informative. Finally, the plt.show() command displays the scatter plot, providing a visual representation of the risk and return trade-offs for the portfolios. This plot helps in identifying portfolios with the highest Sharpe ratios, which are usually represented by points that appear higher in return but with relatively lower risk."
   ]
  },
  {
   "cell_type": "code",
   "execution_count": 61,
   "id": "7c50d7b8-b365-455a-8084-6428902ee03c",
   "metadata": {
    "tags": []
   },
   "outputs": [
    {
     "data": {
      "image/png": "[encoded data removed]",
      "text/plain": [
       "<Figure size 1000x600 with 2 Axes>"
      ]
     },
     "metadata": {},
     "output_type": "display_data"
    }
   ],
   "source": [
    "# Plot the risk/return scatter plot of all the 5,000 portfolios\n",
    "plt.figure(figsize=(10, 6))\n",
    "plt.scatter(results[1, :], results[0, :], c=results[2, :], cmap='viridis_r')\n",
    "plt.colorbar(label='Sharpe Ratio')\n",
    "plt.xlabel('Volatility (Risk)')\n",
    "plt.ylabel('Return')\n",
    "plt.title('Risk-Return Scatter Plot')\n",
    "plt.show()"
   ]
  },
  {
   "cell_type": "markdown",
   "id": "03d0519e-c05a-4a10-9a5f-20a5aefe0284",
   "metadata": {},
   "source": [
    "The scatter plot provides a visual representation of the risk-return profile for 5,000 randomly generated portfolios from the Monte Carlo simulation. It demonstrates a clear upward trend, where higher portfolio risk (measured by volatility) corresponds to higher expected returns. This pattern aligns with the fundamental finance principle that increased returns are typically associated with greater risk.\n",
    "\n",
    "The color gradient, ranging from yellow to dark purple, represents the Sharpe ratios of the portfolios, with darker colors indicating higher Sharpe ratios (better risk-adjusted returns). The most optimal portfolios, characterized by higher Sharpe ratios, are clustered in the upper-left portion of the plot, reflecting portfolios that achieve relatively high returns with moderate risk. Conversely, portfolios in lighter colors (yellow and green) tend to have lower Sharpe ratios, offering lower risk-adjusted returns.\n",
    "\n",
    "Overall, the plot highlights the impact of diversification, with portfolios on the lower-left showing lower volatility but also lower returns, representing more conservative allocations. As we move toward the upper-right, we encounter more aggressive portfolios with higher risk and return profiles, showing a wide range of potential outcomes based on different portfolio weightings."
   ]
  },
  {
   "cell_type": "markdown",
   "id": "fdfd2a32-a002-41f5-b909-90771b179391",
   "metadata": {
    "tags": []
   },
   "source": [
    "## Question 13"
   ]
  },
  {
   "cell_type": "markdown",
   "id": "bf0e1f71-6c4e-4e3b-954b-e1a7ec4309ed",
   "metadata": {},
   "source": [
    "In this block of code, the goal is to identify and highlight the portfolio with the minimum volatility (risk) among the 5,000 randomly generated portfolios, and then plot it on the risk-return scatter plot.\n",
    "\n",
    "First, the index of the portfolio with the minimum volatility is found using np.argmin(results[1, :]), which returns the index of the lowest value in the volatility (risk) array. This portfolio represents the one with the least amount of risk among all portfolios.\n",
    "\n",
    "The code then creates a scatter plot similar to the one generated in the previous block, where each portfolio is plotted with its volatility on the x-axis and its return on the y-axis, with the color representing the Sharpe ratio. The color map and labels remain the same as before, providing context for the portfolio performance.\n",
    "\n",
    "After plotting all portfolios, the portfolio with the minimum volatility is highlighted using a blue star marker ('*') of size 100. This visually distinguishes the minimum volatility portfolio on the plot, allowing the user to easily identify it. The plot includes labels for the axes and a legend to indicate the minimum volatility portfolio.\n",
    "\n",
    "Finally, the plt.show() function displays the plot, showing the minimum volatility portfolio in relation to the other portfolios generated in the Monte Carlo simulation. This helps in analyzing how the minimum volatility portfolio compares to other portfolios in terms of return and Sharpe ratio."
   ]
  },
  {
   "cell_type": "code",
   "execution_count": 65,
   "id": "017ecec8-7d19-4871-9b62-bf396848d3dd",
   "metadata": {},
   "outputs": [
    {
     "data": {
      "image/png": "[encoded data removed]",
      "text/plain": [
       "<Figure size 1000x600 with 2 Axes>"
      ]
     },
     "metadata": {},
     "output_type": "display_data"
    }
   ],
   "source": [
    "# Get the index of the portfolio with the minimum volatility\n",
    "min_vol_idx = np.argmin(results[1, :])\n",
    "\n",
    "# Plot with stars for min-vol and max-Sharpe portfolios\n",
    "plt.figure(figsize=(10, 6))\n",
    "scatter = plt.scatter(results[1, :], results[0, :], c=results[2, :], cmap='viridis_r')\n",
    "plt.colorbar(label='Sharpe Ratio')\n",
    "\n",
    "# Min volatility portfolio\n",
    "plt.scatter(results[1, min_vol_idx], results[0, min_vol_idx], color='blue', marker='*', s=100, label='Min Volatility')\n",
    "\n",
    "# Annotate the min volatility portfolio with the exact values\n",
    "plt.annotate(f'Min Volatility\\nVol: {results[1, min_vol_idx]:.2f}\\nReturn: {results[0, min_vol_idx]:.2f}', \n",
    "             (results[1, min_vol_idx], results[0, min_vol_idx]), \n",
    "             textcoords=\"offset points\", \n",
    "             xytext=(10, 10), \n",
    "             ha='center', color='black')\n",
    "\n",
    "plt.xlabel('Volatility (Risk)')\n",
    "plt.ylabel('Return')\n",
    "plt.legend()\n",
    "plt.title('Minimum Volatility Portfolio')\n",
    "plt.show()"
   ]
  },
  {
   "cell_type": "markdown",
   "id": "bcc25451-70b8-402c-a5f6-b942908edd69",
   "metadata": {},
   "source": [
    "The scatter plot focuses on the Minimum Volatility Portfolio, marked by the blue star, which represents the portfolio with the least risk (volatility) among the 5,000 portfolios generated in the Monte Carlo simulation. This portfolio, located in the lower-left section of the chart, achieves a return close to 0.025 with very low volatility, approximately 0.04. While this portfolio minimizes risk, the trade-off is a relatively lower return compared to higher-volatility portfolios further to the right. The plot shows that the minimum volatility portfolio provides stability but at the cost of potentially higher returns, which is a key consideration for risk-averse investors seeking to minimize risk while maintaining a modest return. This portfolio is ideal for conservative investors prioritizing low-risk investments."
   ]
  },
  {
   "cell_type": "markdown",
   "id": "b1e173fa-bce8-4c12-923c-761ad4715fc7",
   "metadata": {},
   "source": [
    "## Question 14"
   ]
  },
  {
   "cell_type": "markdown",
   "id": "a38f429a-ed2a-4d63-a534-a2584e4de4c3",
   "metadata": {},
   "source": [
    "In this block of code, the goal is to identify and highlight the portfolio with the maximum Sharpe ratio (the best risk-adjusted return) among the 5,000 portfolios and plot it on the risk-return scatter plot.\n",
    "\n",
    "The index of the portfolio with the highest Sharpe ratio is found using np.argmax(results[2, :]), which returns the index of the highest value in the Sharpe ratio array. This portfolio represents the one with the best risk-adjusted return.\n",
    "\n",
    "The scatter plot is generated again, similar to previous blocks, where the portfolios are plotted with volatility on the x-axis and return on the y-axis, with the color representing the Sharpe ratio. The color map and labels remain consistent for clarity.\n",
    "\n",
    "After plotting all the portfolios, the portfolio with the highest Sharpe ratio is highlighted using a red star marker ('*') of size 100. This allows for easy identification of the maximum Sharpe ratio portfolio on the chart. The plot also includes labels for the axes and a legend to indicate the portfolio with the highest Sharpe ratio.\n",
    "\n",
    "Finally, the plt.show() function displays the scatter plot with the highlighted maximum Sharpe portfolio, enabling the user to analyze how this portfolio compares to others in terms of risk and return. This visualization helps in identifying the best-performing portfolio from a risk-adjusted return perspective."
   ]
  },
  {
   "cell_type": "code",
   "execution_count": 69,
   "id": "ccc1a496-542b-4ba0-994b-97f3ff4b897b",
   "metadata": {},
   "outputs": [
    {
     "data": {
      "image/png": "[encoded data removed]",
      "text/plain": [
       "<Figure size 1000x600 with 2 Axes>"
      ]
     },
     "metadata": {},
     "output_type": "display_data"
    }
   ],
   "source": [
    "# Get the index of the portfolio with the maximum Sharpe ratio\n",
    "max_sharpe_idx = np.argmax(results[2, :])\n",
    "\n",
    "# Plot with stars for min-vol and max-Sharpe portfolios\n",
    "plt.figure(figsize=(10, 6))\n",
    "scatter = plt.scatter(results[1, :], results[0, :], c=results[2, :], cmap='viridis_r')\n",
    "plt.colorbar(label='Sharpe Ratio')\n",
    "\n",
    "# Max Sharpe portfolio\n",
    "plt.scatter(results[1, max_sharpe_idx], results[0, max_sharpe_idx], color='red', marker='*', s=100, label='Max Sharpe')\n",
    "\n",
    "# Annotate the max Sharpe portfolio with the exact values\n",
    "plt.annotate(f'Max Sharpe\\nVol: {results[1, max_sharpe_idx]:.2f}\\nReturn: {results[0, max_sharpe_idx]:.2f}', \n",
    "             (results[1, max_sharpe_idx], results[0, max_sharpe_idx]), \n",
    "             textcoords=\"offset points\", \n",
    "             xytext=(10, 10), \n",
    "             ha='right', color='black')\n",
    "\n",
    "plt.xlabel('Volatility (Risk)')\n",
    "plt.ylabel('Return')\n",
    "plt.legend()\n",
    "plt.title('Maximum Sharpe Portfolio')\n",
    "plt.show()"
   ]
  },
  {
   "cell_type": "markdown",
   "id": "d0cffa58-8264-40c5-b51a-342b4fc83c3c",
   "metadata": {},
   "source": [
    "\n",
    "This scatter plot focuses on the Maximum Sharpe Ratio Portfolio, represented by the red star. The Sharpe ratio measures the risk-adjusted return, and this specific portfolio has the highest Sharpe ratio among the 5,000 portfolios generated in the Monte Carlo simulation. It is positioned near the upper-left section of the plot, indicating a portfolio with relatively high return and moderate volatility (risk), offering the best balance between risk and reward.\n",
    "\n",
    "In comparison to other portfolios in the scatter plot, the maximum Sharpe portfolio achieves a higher return without taking on excessive volatility. This portfolio is ideal for investors seeking the best risk-adjusted performance, as it provides the most efficient combination of risk and return in the simulation. The visualization highlights how this portfolio stands out from others by achieving a higher return per unit of risk, making it an optimal choice for maximizing investment performance."
   ]
  },
  {
   "cell_type": "markdown",
   "id": "66ceef73-6f94-46cc-b8f8-0f11345689af",
   "metadata": {},
   "source": [
    "## Question 15"
   ]
  },
  {
   "cell_type": "markdown",
   "id": "3d8e5e3a-fd07-488b-85aa-967153374995",
   "metadata": {},
   "source": [
    "In this block of code, the Sharpe ratios of the equal-weighted portfolio and the maximum Sharpe ratio portfolio are compared.\n",
    "\n",
    "The code prints the Sharpe ratio of the equal-weighted portfolio, stored in the variable portfolio_sharpe, which was calculated earlier. It also retrieves and prints the Sharpe ratio of the portfolio with the highest Sharpe ratio from the Monte Carlo simulation, using the index max_sharpe_idx found in the previous block.\n",
    "\n",
    "This comparison allows you to see whether the equal-weighted portfolio performs better or worse than the portfolio with the maximum Sharpe ratio. The goal is to determine whether the equal-weighted portfolio provides a competitive risk-adjusted return compared to the best possible portfolio from the simulation."
   ]
  },
  {
   "cell_type": "code",
   "execution_count": 73,
   "id": "68841ca3-d854-48d7-9f62-8f2d8b4c1330",
   "metadata": {
    "tags": []
   },
   "outputs": [
    {
     "name": "stdout",
     "output_type": "stream",
     "text": [
      "Equal Weight Portfolio Sharpe: 1.0077\n",
      "Max Sharpe Portfolio Sharpe: 1.1139\n"
     ]
    }
   ],
   "source": [
    "# equal_weight_sharpe = results[2, np.argmin(np.abs(weights_record.mean(axis=0) - 1/len(annual_returns)))]\n",
    "print(f\"Equal Weight Portfolio Sharpe: {portfolio_sharpe:.4f}\")\n",
    "print(f\"Max Sharpe Portfolio Sharpe: {results[2, max_sharpe_idx]:.4f}\")"
   ]
  },
  {
   "cell_type": "markdown",
   "id": "e69b74a5-4db7-4de6-b0f5-75f5baae2e30",
   "metadata": {},
   "source": [
    "## Question 16"
   ]
  },
  {
   "cell_type": "markdown",
   "id": "a3d3e52a-1669-4701-991d-b1af9eba9920",
   "metadata": {},
   "source": [
    "n this block of code, the daily returns for the maximum Sharpe portfolio are calculated by multiplying the strategy returns by their corresponding optimal weights, retrieved from the weights_record DataFrame. The result is a new column, Max_Sharpe_Portfolio, which represents the combined returns of the strategies using the weight distribution that resulted in the highest Sharpe ratio during the Monte Carlo simulation.\n",
    "\n",
    "To further analyze the portfolio, a function calculate_performance_stats is defined. This function calculates:\n",
    "\n",
    "- **Annualized Mean Return:** The mean return of the portfolio scaled by the number of trading days in a year (260).\n",
    "- **Annualized Volatility:** The standard deviation of the daily returns, scaled by the square root of 260 to annualize it.\n",
    "- **Sharpe Ratio:** The ratio of the annualized return to the annualized volatility, providing a measure of risk-adjusted return assuming a risk-free rate of zero.\n",
    "\n",
    "Finally, the performance statistics for the updated myStrategies_df DataFrame, which includes the maximum Sharpe portfolio, are computed and displayed. This provides key metrics to evaluate the portfolio's effectiveness in terms of return and risk."
   ]
  },
  {
   "cell_type": "code",
   "execution_count": 76,
   "id": "11e602f3-a90a-4fcc-b533-5adc07156048",
   "metadata": {
    "tags": []
   },
   "outputs": [
    {
     "data": {
      "text/plain": [
       "AAPL-MAFlat     0.197199\n",
       "AMZN-MAFlat     0.207496\n",
       "AUD-BB          0.150408\n",
       "FBNDX-BMK-MA    0.128283\n",
       "GE-MAShort      0.132035\n",
       "GOLD-MAShort    0.173086\n",
       "INTC-BB         0.006386\n",
       "SPY-MAFlat      0.005106\n",
       "Name: 255, dtype: float64"
      ]
     },
     "execution_count": 76,
     "metadata": {},
     "output_type": "execute_result"
    }
   ],
   "source": [
    "weights_record.iloc[max_sharpe_idx]"
   ]
  },
  {
   "cell_type": "code",
   "execution_count": 77,
   "id": "fc77afa5-fc08-4e92-ab0f-60f74d5bc1cd",
   "metadata": {
    "tags": []
   },
   "outputs": [],
   "source": [
    "# Function to calculate performance statistics\n",
    "def calculate_performance_stats(df):\n",
    "    performance_stats = {}\n",
    "    performance_stats['Mean Return'] = df.mean() * 260  # Annualized mean returns\n",
    "    performance_stats['Volatility'] = df.std() * np.sqrt(260)  # Annualized volatility\n",
    "    performance_stats['Sharpe Ratio'] = performance_stats['Mean Return'] / performance_stats['Volatility']\n",
    "    return pd.DataFrame(performance_stats)"
   ]
  },
  {
   "cell_type": "code",
   "execution_count": 78,
   "id": "4eb518a5-407c-41bf-8cc5-c4bfa009a051",
   "metadata": {},
   "outputs": [],
   "source": [
    "# Original weights of the maximum Sharpe portfolio\n",
    "weights_max_sharpe = np.array([0.197199, 0.207496, 0.150408, 0.128283, \n",
    "                               0.132035, 0.173086, 0.006386, 0.005106])"
   ]
  },
  {
   "cell_type": "code",
   "execution_count": 79,
   "id": "3f927833-b717-45de-97a2-e9757fa0aeda",
   "metadata": {},
   "outputs": [],
   "source": [
    "# Calculate daily returns for the maximum Sharpe portfolio using only the original strategies\n",
    "max_sharpe_daily_returns = (myStrategies_df * weights_max_sharpe).sum(axis=1)"
   ]
  },
  {
   "cell_type": "code",
   "execution_count": 80,
   "id": "f98b709e-9dd9-4e1d-848d-df9372c61ef1",
   "metadata": {},
   "outputs": [],
   "source": [
    "# Create a copy of myStrategies_df before modifying\n",
    "myStrategies_df = myStrategies_df.copy()\n",
    "\n",
    "# Add the maximum Sharpe portfolio returns as a new column\n",
    "myStrategies_df['Max_Sharpe_Portfolio'] = max_sharpe_daily_returns"
   ]
  },
  {
   "cell_type": "code",
   "execution_count": 81,
   "id": "197cf8dd-910a-4f8a-8c69-b86373f9b0c7",
   "metadata": {},
   "outputs": [
    {
     "name": "stdout",
     "output_type": "stream",
     "text": [
      "                      Mean Return  Volatility  Sharpe Ratio\n",
      "AAPL-MAFlat              0.222849    0.296838      0.750743\n",
      "AMZN-MAFlat              0.260893    0.330598      0.789155\n",
      "AUD-BB                  -0.000278    0.057321     -0.004843\n",
      "FBNDX-BMK-MA             0.003581    0.038143      0.093893\n",
      "GE-MAShort               0.128027    0.308737      0.414681\n",
      "GOLD-MAShort             0.071038    0.179685      0.395347\n",
      "INTC-BB                 -0.031812    0.113463     -0.280369\n",
      "SPY-MAFlat               0.056340    0.117781      0.478349\n",
      "Max_Sharpe_Portfolio     0.127782    0.114715      1.113906\n"
     ]
    }
   ],
   "source": [
    "# Calculate the performance statistics for the updated DataFrame\n",
    "performance_statistics = calculate_performance_stats(myStrategies_df)\n",
    "\n",
    "# Display the performance statistics\n",
    "print(performance_statistics)"
   ]
  },
  {
   "cell_type": "markdown",
   "id": "f555ea52-8738-4893-8c89-8cfd0238e166",
   "metadata": {},
   "source": [
    "## Question 17:"
   ]
  },
  {
   "cell_type": "markdown",
   "id": "87cc5aba-4127-4036-8188-860a7aaa8c7c",
   "metadata": {},
   "source": [
    "This block of code calculates the beta of the Maximum Sharpe Portfolio in relation to the S&P 500 (SPY) returns through a regression analysis. Beta measures the portfolio's volatility relative to the market, indicating its sensitivity to market movements. First, the code extracts the SPY returns as the dependent variable and the SPY benchmark returns (SPY-BMK-MA) as the independent variable. It filters the benchmark returns to include only positive values, focusing on upward market movements, and then calculates the log returns for these values to stabilize potential volatility.\n",
    "\n",
    "Next, the stock returns and independent variable are aligned by removing any NaN or infinite values, ensuring the data is clean for regression. A constant is added to account for the intercept in the regression model. Using the statsmodels library, an Ordinary Least Squares (OLS) regression is performed, regressing the stock returns on the benchmark returns. The beta value, which measures the portfolio's sensitivity to the market, is extracted from the model’s parameters.\n",
    "\n",
    "The interpretation of beta is straightforward: if β > 1, the portfolio is more volatile than the market, indicating potential for higher returns but greater risk. If β < 1, the portfolio is less volatile, offering more stability but potentially lower returns. If β = 1, the portfolio moves in line with the market, implying similar risk and return characteristics. The code also prints the regression summary and the computed beta value for further analysis."
   ]
  },
  {
   "cell_type": "code",
   "execution_count": 84,
   "id": "18eed49b-9f28-4ba9-9dce-bf6f6c50ad39",
   "metadata": {},
   "outputs": [
    {
     "name": "stdout",
     "output_type": "stream",
     "text": [
      "Beta of Max Sharpe Portfolio: 0.18483836182077545\n"
     ]
    }
   ],
   "source": [
    "spy_benchmark_returns = master_df['SPY-BMK-MA'].dropna()  # SPY benchmark returns\n",
    "covariance = np.cov(myStrategies_df['Max_Sharpe_Portfolio'].dropna(), spy_benchmark_returns)[0, 1]\n",
    "beta = covariance / spy_benchmark_returns.var()\n",
    "print(f\"Beta of Max Sharpe Portfolio: {beta}\")"
   ]
  },
  {
   "cell_type": "markdown",
   "id": "a0adcd07-34ce-40a6-b21f-24e93f0996e9",
   "metadata": {},
   "source": [
    "## Question 18:"
   ]
  },
  {
   "cell_type": "markdown",
   "id": "879aa5fa-bc8d-431a-969f-30683307957a",
   "metadata": {},
   "source": [
    "This block of code defines a function to calculate the Sharpe ratio for a given portfolio, which is a measure of risk-adjusted return. The function computes the annualized return and volatility of the portfolio based on the mean and standard deviation of the portfolio’s daily returns, assuming 260 trading days in a year. The Sharpe ratio is calculated by dividing the annualized return by the annualized volatility.\n",
    "\n",
    "The code then constructs four different equal-weighted portfolios, each based on a specific strategy:\n",
    "\n",
    "BMK-only Portfolio: This portfolio uses the base benchmark returns (BMK-MA) for each instrument, and its returns are the average of the benchmark returns across all instruments. The Sharpe ratio is calculated for this portfolio.\n",
    "\n",
    "MAFlat Strategy Portfolio: This portfolio uses the Moving Average Flat (MAFlat) strategy across all instruments. The average of the MAFlat returns for each instrument is calculated to get the portfolio's returns, and its Sharpe ratio is then computed.\n",
    "\n",
    "MAShort Strategy Portfolio: This portfolio uses the Moving Average Short (MAShort) strategy for all instruments. Like the previous portfolios, the average of the MAShort returns is used to compute the portfolio's returns, and its Sharpe ratio is determined.\n",
    "\n",
    "BollingerBand Strategy Portfolio: This portfolio applies the Bollinger Bands strategy across all instruments, and its returns are calculated as the average of the Bollinger Bands returns. The Sharpe ratio for this portfolio is then calculated.\n",
    "\n",
    "Next, the Sharpe ratio for the Max Sharpe Portfolio is computed using the max_sharpe_daily_returns from previous calculations.\n",
    "\n",
    "Finally, the code compares the Sharpe ratios of the four constructed portfolios (BMK-only, MAFlat, MAShort, and BollingerBand) with the Max Sharpe Portfolio. It checks whether each portfolio outperforms the Max Sharpe Portfolio based on their respective Sharpe ratios. The results are printed, indicating which portfolios outperform the Max Sharpe Portfolio in terms of risk-adjusted return."
   ]
  },
  {
   "cell_type": "code",
   "execution_count": 87,
   "id": "4e074278-bc6f-4d03-ac91-62fc7461a85f",
   "metadata": {
    "tags": []
   },
   "outputs": [
    {
     "name": "stdout",
     "output_type": "stream",
     "text": [
      "Sharpe Ratio for BMK-only Portfolio: 0.4484\n",
      "Sharpe Ratio for MAFlat Strategy Portfolio: 0.8086\n",
      "Sharpe Ratio for MAShort Strategy Portfolio: 0.6099\n",
      "Sharpe Ratio for BollingerBand Strategy Portfolio: 0.0558\n",
      "Sharpe Ratio for Max Sharpe Portfolio: 1.1139\n",
      "BMK-only Portfolio does not outperform the Max Sharpe Portfolio.\n",
      "MAFlat Portfolio does not outperform the Max Sharpe Portfolio.\n",
      "MAShort Portfolio does not outperform the Max Sharpe Portfolio.\n",
      "BollingerBand Portfolio does not outperform the Max Sharpe Portfolio.\n"
     ]
    }
   ],
   "source": [
    "# Define a function to calculate the Sharpe ratio for a given portfolio\n",
    "def calculate_portfolio_sharpe(portfolio_returns):\n",
    "    # Calculate annualized return and volatility\n",
    "    annualized_return = portfolio_returns.mean() * 260  # Assuming 260 trading days in a year\n",
    "    annualized_volatility = portfolio_returns.std() * np.sqrt(260)  # Annualized volatility\n",
    "    sharpe_ratio = annualized_return / annualized_volatility  # Sharpe ratio\n",
    "    return sharpe_ratio\n",
    "\n",
    "# (a) BMK-only Portfolio (using base instruments)\n",
    "bmk_columns = [f'{instrument}-BMK-MA' for instrument in selected_instruments]\n",
    "bmk_only_returns = master_df[bmk_columns].mean(axis=1)  # Equal-weighted portfolio\n",
    "bmk_sharpe = calculate_portfolio_sharpe(bmk_only_returns)\n",
    "\n",
    "# (b) MAFlat Strategy Portfolio\n",
    "maflat_columns = [f'{instrument}-MAFlat' for instrument in selected_instruments]\n",
    "maflat_returns = master_df[maflat_columns].mean(axis=1)  # Equal-weighted portfolio\n",
    "maflat_sharpe = calculate_portfolio_sharpe(maflat_returns)\n",
    "\n",
    "# (c) MAShort Strategy Portfolio\n",
    "mashort_columns = [f'{instrument}-MAShort' for instrument in selected_instruments]\n",
    "mashort_returns = master_df[mashort_columns].mean(axis=1)  # Equal-weighted portfolio\n",
    "mashort_sharpe = calculate_portfolio_sharpe(mashort_returns)\n",
    "\n",
    "# (d) BollingerBand Strategy Portfolio\n",
    "bollinger_columns = [f'{instrument}-BB' for instrument in selected_instruments]\n",
    "bollinger_returns = master_df[bollinger_columns].mean(axis=1)  # Equal-weighted portfolio\n",
    "bollinger_sharpe = calculate_portfolio_sharpe(bollinger_returns)\n",
    "\n",
    "# Step 5: Compare with Max Sharpe Portfolio\n",
    "# Calculate the Sharpe ratio for the Max Sharpe Portfolio\n",
    "max_sharpe_returns = max_sharpe_daily_returns\n",
    "# Assuming this variable is already defined\n",
    "max_sharpe_ratio = calculate_portfolio_sharpe(max_sharpe_returns)\n",
    "\n",
    "# Display the Sharpe ratios for all 4 portfolios\n",
    "print(f\"Sharpe Ratio for BMK-only Portfolio: {bmk_sharpe:.4f}\")\n",
    "print(f\"Sharpe Ratio for MAFlat Strategy Portfolio: {maflat_sharpe:.4f}\")\n",
    "print(f\"Sharpe Ratio for MAShort Strategy Portfolio: {mashort_sharpe:.4f}\")\n",
    "print(f\"Sharpe Ratio for BollingerBand Strategy Portfolio: {bollinger_sharpe:.4f}\")\n",
    "print(f\"Sharpe Ratio for Max Sharpe Portfolio: {max_sharpe_ratio:.4f}\")\n",
    "\n",
    "# Check which portfolios outperform the Max Sharpe Portfolio\n",
    "outperforming_portfolios = {\n",
    "    'BMK-only': bmk_sharpe > max_sharpe_ratio,\n",
    "    'MAFlat': maflat_sharpe > max_sharpe_ratio,\n",
    "    'MAShort': mashort_sharpe > max_sharpe_ratio,\n",
    "    'BollingerBand': bollinger_sharpe > max_sharpe_ratio\n",
    "}\n",
    "\n",
    "# Print outperforming portfolios\n",
    "for portfolio, outperforms in outperforming_portfolios.items():\n",
    "    if outperforms:\n",
    "        print(f\"{portfolio} Portfolio outperforms the Max Sharpe Portfolio.\")\n",
    "    else:\n",
    "        print(f\"{portfolio} Portfolio does not outperform the Max Sharpe Portfolio.\")"
   ]
  }
 ],
 "metadata": {
  "kernelspec": {
   "display_name": "Python 3 (ipykernel)",
   "language": "python",
   "name": "python3"
  },
  "language_info": {
   "codemirror_mode": {
    "name": "ipython",
    "version": 3
   },
   "file_extension": ".py",
   "mimetype": "text/x-python",
   "name": "python",
   "nbconvert_exporter": "python",
   "pygments_lexer": "ipython3",
   "version": "3.11.5"
  }
 },
 "nbformat": 4,
 "nbformat_minor": 5
}
